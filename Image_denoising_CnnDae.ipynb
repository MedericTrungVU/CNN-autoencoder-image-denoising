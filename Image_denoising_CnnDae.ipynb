{
 "cells": [
  {
   "cell_type": "markdown",
   "metadata": {
    "colab_type": "text",
    "id": "QKJRShax191P"
   },
   "source": [
    "#**1.Read and load image dataset**"
   ]
  },
  {
   "cell_type": "code",
   "execution_count": 0,
   "metadata": {
    "colab": {},
    "colab_type": "code",
    "collapsed": true,
    "id": "O5ZoFaUr5vC1"
   },
   "outputs": [],
   "source": [
    "from PIL import Image\n",
    "import re\n",
    "from os import listdir\n",
    "from os.path import isfile, join\n",
    "import numpy as np\n",
    "import random\n",
    "import shutil"
   ]
  },
  {
   "cell_type": "code",
   "execution_count": 0,
   "metadata": {
    "colab": {},
    "colab_type": "code",
    "collapsed": true,
    "id": "8MVTzsdxc-UK"
   },
   "outputs": [],
   "source": [
    "import matplotlib as mpl\n",
    "mpl.rcParams['axes.grid'] = False"
   ]
  },
  {
   "cell_type": "code",
   "execution_count": 0,
   "metadata": {
    "colab": {
     "base_uri": "https://localhost:8080/",
     "height": 34
    },
    "colab_type": "code",
    "collapsed": false,
    "id": "VtPIzg8X5pRz",
    "outputId": "56590335-79f3-4879-c657-34b9fa5f057f"
   },
   "outputs": [
    {
     "name": "stderr",
     "output_type": "stream",
     "text": [
      "Using TensorFlow backend.\n"
     ]
    }
   ],
   "source": [
    "import os\n",
    "import cv2\n",
    "import math\n",
    "import matplotlib.pyplot as plt\n",
    "import matplotlib.cm as cm\n",
    "import numpy as np\n",
    "from scipy.stats import pearsonr\n",
    "from keras import backend as K\n",
    "\n",
    "\n",
    "#Read images from folder path specified in 'folder'\n",
    "def read_dataset(folder):\n",
    "    images = []\n",
    "    for filename in os.listdir(folder):\n",
    "        img = cv2.imread(os.path.join(folder,filename),0)\n",
    "        \n",
    "        if img is not None:\n",
    "            img = cv2.resize(img,(64,64))\n",
    "            images.append(img)\n",
    "    return images"
   ]
  },
  {
   "cell_type": "code",
   "execution_count": 0,
   "metadata": {
    "colab": {},
    "colab_type": "code",
    "collapsed": true,
    "id": "Ch-19Wrz5pR4"
   },
   "outputs": [],
   "source": [
    "MIAS_PATH = \"./all-mias/\"\n",
    "X_RAY_PATH1 = \"./3471833/RawImage/Test1Data/\"\n",
    "X_RAY_PATH2 = \"./3471833/RawImage/Test2Data/\"\n",
    "X_RAY_PATH3 = \"./3471833/RawImage/TrainingData/\"\n",
    "DENTAL_PATH = \"./Dataset/\""
   ]
  },
  {
   "cell_type": "code",
   "execution_count": 0,
   "metadata": {
    "colab": {},
    "colab_type": "code",
    "collapsed": true,
    "id": "UDesnziG5pR8"
   },
   "outputs": [],
   "source": [
    "mias_set = read_dataset(MIAS_PATH)\n",
    "Xray_set1 = read_dataset(X_RAY_PATH1)\n",
    "Xray_set2 = read_dataset(X_RAY_PATH2)\n",
    "Xray_set3 = read_dataset(X_RAY_PATH3)\n",
    "dental_set = read_dataset(DENTAL_PATH)"
   ]
  },
  {
   "cell_type": "code",
   "execution_count": 0,
   "metadata": {
    "colab": {},
    "colab_type": "code",
    "collapsed": true,
    "id": "tDg_9AzC5pR_"
   },
   "outputs": [],
   "source": [
    "mias_set.extend(Xray_set1)\n",
    "mias_set.extend(Xray_set2)\n",
    "mias_set.extend(Xray_set3)\n",
    "mias_set.extend(dental_set)\n",
    "dataset = np.array(mias_set)"
   ]
  },
  {
   "cell_type": "markdown",
   "metadata": {
    "colab_type": "text",
    "id": "zqR8VKj-5pSC"
   },
   "source": [
    "### Show some images in dataset"
   ]
  },
  {
   "cell_type": "code",
   "execution_count": 0,
   "metadata": {
    "colab": {
     "base_uri": "https://localhost:8080/",
     "height": 34
    },
    "colab_type": "code",
    "collapsed": false,
    "id": "pelfToL75pSD",
    "outputId": "2274cf5d-aac3-4192-b3f3-7f731a4bb0e3"
   },
   "outputs": [
    {
     "data": {
      "text/plain": [
       "(842, 64, 64)"
      ]
     },
     "execution_count": 160,
     "metadata": {
      "tags": []
     },
     "output_type": "execute_result"
    }
   ],
   "source": [
    "dataset.shape"
   ]
  },
  {
   "cell_type": "code",
   "execution_count": 0,
   "metadata": {
    "colab": {},
    "colab_type": "code",
    "collapsed": true,
    "id": "VCum_GW45pSK"
   },
   "outputs": [],
   "source": [
    "idx = [841,200,420]"
   ]
  },
  {
   "cell_type": "code",
   "execution_count": 0,
   "metadata": {
    "colab": {
     "base_uri": "https://localhost:8080/",
     "height": 309
    },
    "colab_type": "code",
    "collapsed": false,
    "id": "rKWqUxWn5pSN",
    "outputId": "54e4c23a-25b7-43c5-af25-3684f8a809a7"
   },
   "outputs": [
    {
     "data": {
      "image/png": "[encoded data removed]",
      "text/plain": [
       "<matplotlib.figure.Figure at 0x7f85c11ed320>"
      ]
     },
     "metadata": {
      "tags": []
     },
     "output_type": "display_data"
    }
   ],
   "source": [
    "#for i in idx:\n",
    "fig, axes = plt.subplots(ncols=3, figsize=(15, 5))\n",
    "for i, idx in enumerate(idx):\n",
    "    axes[i].imshow(dataset[idx], cmap=\"Greys_r\")\n",
    "    axes[i].set_title('%d' % idx)"
   ]
  },
  {
   "cell_type": "markdown",
   "metadata": {
    "colab_type": "text",
    "id": "u9tBK_W75pSQ"
   },
   "source": [
    "#**2.Preprocessing by adding noise to image**"
   ]
  },
  {
   "cell_type": "code",
   "execution_count": 0,
   "metadata": {
    "colab": {},
    "colab_type": "code",
    "collapsed": true,
    "id": "Tw4j4Xw-5pSR"
   },
   "outputs": [],
   "source": [
    "#Function to add gaussian noise\n",
    "def gaussian_noise(images,mean,sigma,prop):\n",
    "    \n",
    "    noisy_images = []\n",
    "    for img in images:\n",
    "        noisy_img = img + prop*np.random.normal(mean, sigma, img.shape)\n",
    "        noisy_images.append(noisy_img)\n",
    "   \n",
    "    return noisy_images\n",
    "\n",
    "#Function to add poisson noise\n",
    "def poisson_noise(images,mean,prop):\n",
    "    noisy_images = []\n",
    "    for img in images:\n",
    "        noisy_img = img + prop*np.random.poisson(mean, img.shape)\n",
    "        noisy_images.append(noisy_img)\n",
    "   \n",
    "    return noisy_images"
   ]
  },
  {
   "cell_type": "code",
   "execution_count": 0,
   "metadata": {
    "colab": {},
    "colab_type": "code",
    "collapsed": true,
    "id": "Lu2oDmgY5pSU"
   },
   "outputs": [],
   "source": [
    "def add_noise_gauss(images):\n",
    "    batch = images.shape[0]//4;\n",
    "    noise1 = gaussian_noise(images[0:batch],0,50,0.5)\n",
    "    noise2 = gaussian_noise(images[batch:2*batch],0,50,0.5)\n",
    "    noise3 = gaussian_noise(images[2*batch:3*batch],0,50,0.5)\n",
    "    noise4 = gaussian_noise(images[3*batch:],0,50,0.5)\n",
    "    \n",
    "    noisy_set = []\n",
    "    for data in [noise1,noise2,noise3,noise4]:\n",
    "        for image in data:\n",
    "            noisy_set.append(image)\n",
    "    \n",
    "    return np.array(noisy_set)\n",
    "\n",
    "def add_noise_poisson(images):\n",
    "    noise = poisson_noise(images,0.5,20)\n",
    "    \n",
    "    noisy_set = []\n",
    "    for data in [noise]:\n",
    "        for image in data:\n",
    "            noisy_set.append(image)\n",
    "    \n",
    "    return np.array(noisy_set)"
   ]
  },
  {
   "cell_type": "code",
   "execution_count": 0,
   "metadata": {
    "colab": {},
    "colab_type": "code",
    "collapsed": true,
    "id": "a-QkRPjS5pSW"
   },
   "outputs": [],
   "source": [
    "def pair_shuffle(images,noisy_set):\n",
    "    # - from 2 initial sets, take each of them and put in the pair\n",
    "    # - shufle the list of pairs\n",
    "    # - from shuffled list of pairs, split into 2 numpy ground truth and noisy images\n",
    "    \n",
    "    image_pair = []\n",
    "    for i in range(images.shape[0]):\n",
    "        image_pair.append((images[i],noisy_set[i]))\n",
    "    shuffle(image_pair)\n",
    "    \n",
    "    ground_truth=[]\n",
    "    noisy_images = []\n",
    "    for i in range(images.shape[0]):\n",
    "        ground_truth.append(image_pair[i][0])\n",
    "        noisy_images.append(image_pair[i][1])\n",
    "    return np.array(ground_truth), np.array(noisy_images)"
   ]
  },
  {
   "cell_type": "code",
   "execution_count": 0,
   "metadata": {
    "colab": {},
    "colab_type": "code",
    "collapsed": true,
    "id": "lTs7EpGW5pSb"
   },
   "outputs": [],
   "source": [
    "images = np.reshape(dataset, (dataset.shape[0],64,64,1))"
   ]
  },
  {
   "cell_type": "markdown",
   "metadata": {
    "colab_type": "text",
    "id": "IBqkXQW0EaRY"
   },
   "source": [
    "### **Add gaussain noise**"
   ]
  },
  {
   "cell_type": "code",
   "execution_count": 0,
   "metadata": {
    "colab": {},
    "colab_type": "code",
    "collapsed": true,
    "id": "YbVX5yoQ5pSg"
   },
   "outputs": [],
   "source": [
    "from random import shuffle\n",
    "import math\n",
    "import skimage\n",
    "from sklearn.metrics import mean_squared_error\n",
    "from skimage import data, img_as_float\n",
    "from skimage.restoration import denoise_nl_means\n",
    "from skimage.measure import compare_ssim as ssim\n",
    "\n",
    "#Shuffling and adding noise to the dataset\n",
    "shuffle(images)\n",
    "#Getting the noisy image set\n",
    "noisy_set = add_noise_gauss(images)\n",
    "ground_truth,noisy_images = pair_shuffle(images,noisy_set)"
   ]
  },
  {
   "cell_type": "code",
   "execution_count": 0,
   "metadata": {
    "colab": {},
    "colab_type": "code",
    "collapsed": true,
    "id": "sjjSFGEC98hs"
   },
   "outputs": [],
   "source": [
    "ground_truth = ground_truth.astype('float32')\n",
    "noisy_images = noisy_images.astype('float32')"
   ]
  },
  {
   "cell_type": "code",
   "execution_count": 0,
   "metadata": {
    "colab": {
     "base_uri": "https://localhost:8080/",
     "height": 51
    },
    "colab_type": "code",
    "collapsed": false,
    "id": "_btJB2UC5pSk",
    "outputId": "43fbee22-78af-45ed-882c-d029bd6532f5"
   },
   "outputs": [
    {
     "name": "stdout",
     "output_type": "stream",
     "text": [
      "(577, 64, 64, 1)\n",
      "(145, 64, 64, 1)\n"
     ]
    }
   ],
   "source": [
    "#Split into training and cross validation\n",
    "nb_train = 722\n",
    "train_size = int(nb_train*0.8)\n",
    "x_train_gt = ground_truth[0:train_size]/255.\n",
    "x_train_noisy = noisy_images[0:train_size]/255.\n",
    "x_valid_gt = ground_truth[train_size:nb_train]/255.\n",
    "x_valid_noisy = noisy_images[train_size:nb_train]/255.\n",
    "print(x_train_noisy.shape)\n",
    "print(x_test_noisy.shape)"
   ]
  },
  {
   "cell_type": "code",
   "execution_count": 0,
   "metadata": {
    "colab": {
     "base_uri": "https://localhost:8080/",
     "height": 309
    },
    "colab_type": "code",
    "collapsed": false,
    "id": "xeFimJSo5pSo",
    "outputId": "c87d0544-7ae5-49b0-d4e5-1715e018daa1"
   },
   "outputs": [
    {
     "data": {
      "image/png": "[encoded data removed]",
      "text/plain": [
       "<matplotlib.figure.Figure at 0x7f85af0bdbe0>"
      ]
     },
     "metadata": {
      "tags": []
     },
     "output_type": "display_data"
    }
   ],
   "source": [
    "idx_noisy = [16,128,555]\n",
    "fig, axes = plt.subplots(ncols=3, figsize=(15, 5))\n",
    "for i, idx in enumerate(idx_noisy):\n",
    "    axes[i].imshow(np.squeeze(x_train_noisy[idx], axis=2), cmap=\"Greys_r\")\n",
    "    axes[i].set_title('%d' % idx)"
   ]
  },
  {
   "cell_type": "code",
   "execution_count": 0,
   "metadata": {
    "colab": {
     "base_uri": "https://localhost:8080/",
     "height": 309
    },
    "colab_type": "code",
    "collapsed": false,
    "id": "AVeW_e7Ypvci",
    "outputId": "04d063ee-a7ef-4f2d-9b4f-76ab04df5fb6"
   },
   "outputs": [
    {
     "data": {
      "image/png": "[encoded data removed]",
      "text/plain": [
       "<matplotlib.figure.Figure at 0x7f85af578a20>"
      ]
     },
     "metadata": {
      "tags": []
     },
     "output_type": "display_data"
    }
   ],
   "source": [
    "#idx_noisy = [16,128,229]\n",
    "fig, axes = plt.subplots(ncols=3, figsize=(15, 5))\n",
    "for i, idx in enumerate(idx_noisy):\n",
    "    axes[i].imshow(np.squeeze(x_train_gt[idx], axis=2), cmap=\"Greys_r\")\n",
    "    axes[i].set_title('%d' % idx)"
   ]
  },
  {
   "cell_type": "markdown",
   "metadata": {
    "colab_type": "text",
    "id": "zZHcyUQW5pSv"
   },
   "source": [
    "# 3.Build Autoencoder model"
   ]
  },
  {
   "cell_type": "code",
   "execution_count": 0,
   "metadata": {
    "colab": {},
    "colab_type": "code",
    "collapsed": true,
    "id": "hSG0QhYK5pSx"
   },
   "outputs": [],
   "source": [
    "from keras.layers import LeakyReLU\n",
    "\n",
    "def DAE_CNN(features_shape, act='linear'):\n",
    " \n",
    "    # Input\n",
    "    x = Input(name='inputs', shape=features_shape, dtype='float32')\n",
    "    o = x\n",
    "    \n",
    "    # Encoder\n",
    "    o = Conv2D(64, (3, 3), activation=act, padding='same', strides=1, name='en_conv1')(o)\n",
    "    o = LeakyReLU(0.1)(o)\n",
    "    o = MaxPooling2D((2, 2), strides=(2,2), padding='same', name='en_pool1')(o)\n",
    "    o = Conv2D(64, (3, 3), activation=act, padding='same', strides=1, name='en_conv2')(o)\n",
    "    o = LeakyReLU(0.1)(o)\n",
    "    enc = MaxPooling2D((2, 2), strides=(2,2), padding='same', name='en_pool2')(o)\n",
    "    \n",
    "    # Decoder\n",
    "    o = Conv2D(64, (3, 3), activation=act, padding='same', strides=1, name='de_conv1')(enc)\n",
    "    o = LeakyReLU(0.1)(o)\n",
    "    o = UpSampling2D((2, 2), name='upsampling1')(o)\n",
    "    o = Conv2D(64, (3, 3), activation=act, padding='same', strides=1, name='de_conv2')(o)\n",
    "    o = LeakyReLU(0.1)(o)\n",
    "    o = UpSampling2D((2, 2), name='upsampling2')(o)\n",
    "    dec = Conv2D(1, (3, 3), activation='sigmoid', padding='same', strides=1, name='de_conv3')(o)\n",
    "    \n",
    "    # Print network summary\n",
    "    autoencoder = Model(inputs=x, outputs=dec)\n",
    "    autoencoder.compile(optimizer='adadelta', loss='binary_crossentropy',metrics = ['accuracy'])\n",
    "    \n",
    "    autoencoder.summary()\n",
    "    return autoencoder"
   ]
  },
  {
   "cell_type": "code",
   "execution_count": 0,
   "metadata": {
    "colab": {
     "base_uri": "https://localhost:8080/",
     "height": 612
    },
    "colab_type": "code",
    "collapsed": false,
    "id": "hplQ5L_Y5pS2",
    "outputId": "6d81e25b-fade-466b-d065-1032e6cd4225"
   },
   "outputs": [
    {
     "name": "stdout",
     "output_type": "stream",
     "text": [
      "_________________________________________________________________\n",
      "Layer (type)                 Output Shape              Param #   \n",
      "=================================================================\n",
      "inputs (InputLayer)          (None, 64, 64, 1)         0         \n",
      "_________________________________________________________________\n",
      "en_conv1 (Conv2D)            (None, 64, 64, 64)        640       \n",
      "_________________________________________________________________\n",
      "leaky_re_lu_21 (LeakyReLU)   (None, 64, 64, 64)        0         \n",
      "_________________________________________________________________\n",
      "en_pool1 (MaxPooling2D)      (None, 32, 32, 64)        0         \n",
      "_________________________________________________________________\n",
      "en_conv2 (Conv2D)            (None, 32, 32, 64)        36928     \n",
      "_________________________________________________________________\n",
      "leaky_re_lu_22 (LeakyReLU)   (None, 32, 32, 64)        0         \n",
      "_________________________________________________________________\n",
      "en_pool2 (MaxPooling2D)      (None, 16, 16, 64)        0         \n",
      "_________________________________________________________________\n",
      "de_conv1 (Conv2D)            (None, 16, 16, 64)        36928     \n",
      "_________________________________________________________________\n",
      "leaky_re_lu_23 (LeakyReLU)   (None, 16, 16, 64)        0         \n",
      "_________________________________________________________________\n",
      "upsampling1 (UpSampling2D)   (None, 32, 32, 64)        0         \n",
      "_________________________________________________________________\n",
      "de_conv2 (Conv2D)            (None, 32, 32, 64)        36928     \n",
      "_________________________________________________________________\n",
      "leaky_re_lu_24 (LeakyReLU)   (None, 32, 32, 64)        0         \n",
      "_________________________________________________________________\n",
      "upsampling2 (UpSampling2D)   (None, 64, 64, 64)        0         \n",
      "_________________________________________________________________\n",
      "de_conv3 (Conv2D)            (None, 64, 64, 1)         577       \n",
      "=================================================================\n",
      "Total params: 112,001\n",
      "Trainable params: 112,001\n",
      "Non-trainable params: 0\n",
      "_________________________________________________________________\n"
     ]
    }
   ],
   "source": [
    "from keras.models import Model\n",
    "from keras.layers import (Input, Conv2D, MaxPooling2D, UpSampling2D, LeakyReLU)\n",
    "\n",
    "input_shape=x_train_noisy[0].shape\n",
    "autoenc = DAE_CNN(input_shape) #, act=LeakyReLU(alpha=0.1))"
   ]
  },
  {
   "cell_type": "code",
   "execution_count": 0,
   "metadata": {
    "colab": {},
    "colab_type": "code",
    "collapsed": true,
    "id": "Fn7Vhomn5pS5"
   },
   "outputs": [],
   "source": [
    "from keras import backend as K\n",
    "from keras.callbacks import TensorBoard, ModelCheckpoint\n",
    "model_checkpoint = ModelCheckpoint('./first_cnn_autoencoder.hdf5',monitor = 'loss', verbose = 1,save_best_only=True)"
   ]
  },
  {
   "cell_type": "code",
   "execution_count": 0,
   "metadata": {
    "colab": {
     "base_uri": "https://localhost:8080/",
     "height": 6834
    },
    "colab_type": "code",
    "collapsed": false,
    "id": "wBmbmBP_5pS7",
    "outputId": "c3bb828b-a7bf-4cbb-9664-9a02a569ea48"
   },
   "outputs": [
    {
     "name": "stdout",
     "output_type": "stream",
     "text": [
      "Train on 577 samples, validate on 145 samples\n",
      "Epoch 1/100\n",
      "577/577 [==============================] - 2s 4ms/step - loss: 0.3991 - acc: 0.3617 - val_loss: 0.3407 - val_acc: 0.3770\n",
      "\n",
      "Epoch 00001: loss improved from inf to 0.39909, saving model to ./first_cnn_autoencoder.hdf5\n",
      "Epoch 2/100\n",
      "577/577 [==============================] - 2s 3ms/step - loss: 0.3474 - acc: 0.3668 - val_loss: 0.3332 - val_acc: 0.3771\n",
      "\n",
      "Epoch 00002: loss improved from 0.39909 to 0.34741, saving model to ./first_cnn_autoencoder.hdf5\n",
      "Epoch 3/100\n",
      "577/577 [==============================] - 2s 3ms/step - loss: 0.3378 - acc: 0.3670 - val_loss: 0.3259 - val_acc: 0.3772\n",
      "\n",
      "Epoch 00003: loss improved from 0.34741 to 0.33781, saving model to ./first_cnn_autoencoder.hdf5\n",
      "Epoch 4/100\n",
      "577/577 [==============================] - 2s 3ms/step - loss: 0.3330 - acc: 0.3671 - val_loss: 0.3319 - val_acc: 0.3768\n",
      "\n",
      "Epoch 00004: loss improved from 0.33781 to 0.33296, saving model to ./first_cnn_autoencoder.hdf5\n",
      "Epoch 5/100\n",
      "577/577 [==============================] - 2s 3ms/step - loss: 0.3303 - acc: 0.3673 - val_loss: 0.3204 - val_acc: 0.3775\n",
      "\n",
      "Epoch 00005: loss improved from 0.33296 to 0.33028, saving model to ./first_cnn_autoencoder.hdf5\n",
      "Epoch 6/100\n",
      "577/577 [==============================] - 2s 3ms/step - loss: 0.3290 - acc: 0.3674 - val_loss: 0.3263 - val_acc: 0.3778\n",
      "\n",
      "Epoch 00006: loss improved from 0.33028 to 0.32905, saving model to ./first_cnn_autoencoder.hdf5\n",
      "Epoch 7/100\n",
      "577/577 [==============================] - 2s 3ms/step - loss: 0.3271 - acc: 0.3675 - val_loss: 0.3184 - val_acc: 0.3777\n",
      "\n",
      "Epoch 00007: loss improved from 0.32905 to 0.32709, saving model to ./first_cnn_autoencoder.hdf5\n",
      "Epoch 8/100\n",
      "577/577 [==============================] - 2s 3ms/step - loss: 0.3265 - acc: 0.3676 - val_loss: 0.3176 - val_acc: 0.3779\n",
      "\n",
      "Epoch 00008: loss improved from 0.32709 to 0.32649, saving model to ./first_cnn_autoencoder.hdf5\n",
      "Epoch 9/100\n",
      "577/577 [==============================] - 2s 3ms/step - loss: 0.3245 - acc: 0.3677 - val_loss: 0.3238 - val_acc: 0.3784\n",
      "\n",
      "Epoch 00009: loss improved from 0.32649 to 0.32454, saving model to ./first_cnn_autoencoder.hdf5\n",
      "Epoch 10/100\n",
      "577/577 [==============================] - 2s 3ms/step - loss: 0.3241 - acc: 0.3678 - val_loss: 0.3161 - val_acc: 0.3784\n",
      "\n",
      "Epoch 00010: loss improved from 0.32454 to 0.32405, saving model to ./first_cnn_autoencoder.hdf5\n",
      "Epoch 11/100\n",
      "577/577 [==============================] - 2s 3ms/step - loss: 0.3235 - acc: 0.3680 - val_loss: 0.3154 - val_acc: 0.3783\n",
      "\n",
      "Epoch 00011: loss improved from 0.32405 to 0.32353, saving model to ./first_cnn_autoencoder.hdf5\n",
      "Epoch 12/100\n",
      "577/577 [==============================] - 2s 3ms/step - loss: 0.3222 - acc: 0.3680 - val_loss: 0.3186 - val_acc: 0.3783\n",
      "\n",
      "Epoch 00012: loss improved from 0.32353 to 0.32224, saving model to ./first_cnn_autoencoder.hdf5\n",
      "Epoch 13/100\n",
      "577/577 [==============================] - 2s 3ms/step - loss: 0.3220 - acc: 0.3681 - val_loss: 0.3258 - val_acc: 0.3785\n",
      "\n",
      "Epoch 00013: loss improved from 0.32224 to 0.32198, saving model to ./first_cnn_autoencoder.hdf5\n",
      "Epoch 14/100\n",
      "577/577 [==============================] - 2s 3ms/step - loss: 0.3216 - acc: 0.3682 - val_loss: 0.3175 - val_acc: 0.3786\n",
      "\n",
      "Epoch 00014: loss improved from 0.32198 to 0.32158, saving model to ./first_cnn_autoencoder.hdf5\n",
      "Epoch 15/100\n",
      "577/577 [==============================] - 2s 3ms/step - loss: 0.3214 - acc: 0.3682 - val_loss: 0.3148 - val_acc: 0.3786\n",
      "\n",
      "Epoch 00015: loss improved from 0.32158 to 0.32140, saving model to ./first_cnn_autoencoder.hdf5\n",
      "Epoch 16/100\n",
      "577/577 [==============================] - 2s 3ms/step - loss: 0.3207 - acc: 0.3682 - val_loss: 0.3146 - val_acc: 0.3786\n",
      "\n",
      "Epoch 00016: loss improved from 0.32140 to 0.32067, saving model to ./first_cnn_autoencoder.hdf5\n",
      "Epoch 17/100\n",
      "577/577 [==============================] - 2s 3ms/step - loss: 0.3201 - acc: 0.3683 - val_loss: 0.3156 - val_acc: 0.3787\n",
      "\n",
      "Epoch 00017: loss improved from 0.32067 to 0.32006, saving model to ./first_cnn_autoencoder.hdf5\n",
      "Epoch 18/100\n",
      "577/577 [==============================] - 2s 3ms/step - loss: 0.3203 - acc: 0.3683 - val_loss: 0.3157 - val_acc: 0.3787\n",
      "\n",
      "Epoch 00018: loss did not improve from 0.32006\n",
      "Epoch 19/100\n",
      "577/577 [==============================] - 1s 3ms/step - loss: 0.3194 - acc: 0.3683 - val_loss: 0.3135 - val_acc: 0.3787\n",
      "\n",
      "Epoch 00019: loss improved from 0.32006 to 0.31942, saving model to ./first_cnn_autoencoder.hdf5\n",
      "Epoch 20/100\n",
      "577/577 [==============================] - 1s 3ms/step - loss: 0.3191 - acc: 0.3683 - val_loss: 0.3124 - val_acc: 0.3787\n",
      "\n",
      "Epoch 00020: loss improved from 0.31942 to 0.31909, saving model to ./first_cnn_autoencoder.hdf5\n",
      "Epoch 21/100\n",
      "577/577 [==============================] - 1s 3ms/step - loss: 0.3185 - acc: 0.3683 - val_loss: 0.3135 - val_acc: 0.3787\n",
      "\n",
      "Epoch 00021: loss improved from 0.31909 to 0.31854, saving model to ./first_cnn_autoencoder.hdf5\n",
      "Epoch 22/100\n",
      "577/577 [==============================] - 1s 2ms/step - loss: 0.3186 - acc: 0.3683 - val_loss: 0.3154 - val_acc: 0.3787\n",
      "\n",
      "Epoch 00022: loss did not improve from 0.31854\n",
      "Epoch 23/100\n",
      "577/577 [==============================] - 1s 3ms/step - loss: 0.3187 - acc: 0.3684 - val_loss: 0.3136 - val_acc: 0.3787\n",
      "\n",
      "Epoch 00023: loss did not improve from 0.31854\n",
      "Epoch 24/100\n",
      "577/577 [==============================] - 1s 2ms/step - loss: 0.3175 - acc: 0.3684 - val_loss: 0.3145 - val_acc: 0.3787\n",
      "\n",
      "Epoch 00024: loss improved from 0.31854 to 0.31749, saving model to ./first_cnn_autoencoder.hdf5\n",
      "Epoch 25/100\n",
      "577/577 [==============================] - 1s 3ms/step - loss: 0.3179 - acc: 0.3684 - val_loss: 0.3119 - val_acc: 0.3787\n",
      "\n",
      "Epoch 00025: loss did not improve from 0.31749\n",
      "Epoch 26/100\n",
      "577/577 [==============================] - 1s 2ms/step - loss: 0.3179 - acc: 0.3684 - val_loss: 0.3164 - val_acc: 0.3787\n",
      "\n",
      "Epoch 00026: loss did not improve from 0.31749\n",
      "Epoch 27/100\n",
      "577/577 [==============================] - 1s 2ms/step - loss: 0.3172 - acc: 0.3684 - val_loss: 0.3130 - val_acc: 0.3787\n",
      "\n",
      "Epoch 00027: loss improved from 0.31749 to 0.31721, saving model to ./first_cnn_autoencoder.hdf5\n",
      "Epoch 28/100\n",
      "577/577 [==============================] - 1s 2ms/step - loss: 0.3177 - acc: 0.3684 - val_loss: 0.3124 - val_acc: 0.3787\n",
      "\n",
      "Epoch 00028: loss did not improve from 0.31721\n",
      "Epoch 29/100\n",
      "577/577 [==============================] - 1s 2ms/step - loss: 0.3163 - acc: 0.3684 - val_loss: 0.3107 - val_acc: 0.3787\n",
      "\n",
      "Epoch 00029: loss improved from 0.31721 to 0.31634, saving model to ./first_cnn_autoencoder.hdf5\n",
      "Epoch 30/100\n",
      "577/577 [==============================] - 1s 2ms/step - loss: 0.3163 - acc: 0.3684 - val_loss: 0.3129 - val_acc: 0.3787\n",
      "\n",
      "Epoch 00030: loss improved from 0.31634 to 0.31632, saving model to ./first_cnn_autoencoder.hdf5\n",
      "Epoch 31/100\n",
      "577/577 [==============================] - 1s 2ms/step - loss: 0.3162 - acc: 0.3684 - val_loss: 0.3129 - val_acc: 0.3787\n",
      "\n",
      "Epoch 00031: loss improved from 0.31632 to 0.31617, saving model to ./first_cnn_autoencoder.hdf5\n",
      "Epoch 32/100\n",
      "577/577 [==============================] - 1s 2ms/step - loss: 0.3163 - acc: 0.3684 - val_loss: 0.3157 - val_acc: 0.3787\n",
      "\n",
      "Epoch 00032: loss did not improve from 0.31617\n",
      "Epoch 33/100\n",
      "577/577 [==============================] - 1s 2ms/step - loss: 0.3165 - acc: 0.3684 - val_loss: 0.3118 - val_acc: 0.3787\n",
      "\n",
      "Epoch 00033: loss did not improve from 0.31617\n",
      "Epoch 34/100\n",
      "577/577 [==============================] - 1s 2ms/step - loss: 0.3168 - acc: 0.3684 - val_loss: 0.3105 - val_acc: 0.3787\n",
      "\n",
      "Epoch 00034: loss did not improve from 0.31617\n",
      "Epoch 35/100\n",
      "577/577 [==============================] - 1s 2ms/step - loss: 0.3152 - acc: 0.3684 - val_loss: 0.3100 - val_acc: 0.3787\n",
      "\n",
      "Epoch 00035: loss improved from 0.31617 to 0.31520, saving model to ./first_cnn_autoencoder.hdf5\n",
      "Epoch 36/100\n",
      "577/577 [==============================] - 1s 2ms/step - loss: 0.3160 - acc: 0.3684 - val_loss: 0.3121 - val_acc: 0.3787\n",
      "\n",
      "Epoch 00036: loss did not improve from 0.31520\n",
      "Epoch 37/100\n",
      "577/577 [==============================] - 1s 2ms/step - loss: 0.3151 - acc: 0.3684 - val_loss: 0.3157 - val_acc: 0.3787\n",
      "\n",
      "Epoch 00037: loss improved from 0.31520 to 0.31509, saving model to ./first_cnn_autoencoder.hdf5\n",
      "Epoch 38/100\n",
      "577/577 [==============================] - 1s 2ms/step - loss: 0.3152 - acc: 0.3684 - val_loss: 0.3101 - val_acc: 0.3787\n",
      "\n",
      "Epoch 00038: loss did not improve from 0.31509\n",
      "Epoch 39/100\n",
      "577/577 [==============================] - 1s 2ms/step - loss: 0.3149 - acc: 0.3684 - val_loss: 0.3099 - val_acc: 0.3787\n",
      "\n",
      "Epoch 00039: loss improved from 0.31509 to 0.31492, saving model to ./first_cnn_autoencoder.hdf5\n",
      "Epoch 40/100\n",
      "577/577 [==============================] - 1s 2ms/step - loss: 0.3145 - acc: 0.3684 - val_loss: 0.3151 - val_acc: 0.3787\n",
      "\n",
      "Epoch 00040: loss improved from 0.31492 to 0.31455, saving model to ./first_cnn_autoencoder.hdf5\n",
      "Epoch 41/100\n",
      "577/577 [==============================] - 1s 2ms/step - loss: 0.3156 - acc: 0.3684 - val_loss: 0.3095 - val_acc: 0.3787\n",
      "\n",
      "Epoch 00041: loss did not improve from 0.31455\n",
      "Epoch 42/100\n",
      "577/577 [==============================] - 1s 2ms/step - loss: 0.3143 - acc: 0.3684 - val_loss: 0.3093 - val_acc: 0.3787\n",
      "\n",
      "Epoch 00042: loss improved from 0.31455 to 0.31430, saving model to ./first_cnn_autoencoder.hdf5\n",
      "Epoch 43/100\n",
      "577/577 [==============================] - 1s 2ms/step - loss: 0.3143 - acc: 0.3684 - val_loss: 0.3099 - val_acc: 0.3787\n",
      "\n",
      "Epoch 00043: loss improved from 0.31430 to 0.31428, saving model to ./first_cnn_autoencoder.hdf5\n",
      "Epoch 44/100\n",
      "577/577 [==============================] - 1s 2ms/step - loss: 0.3150 - acc: 0.3684 - val_loss: 0.3092 - val_acc: 0.3787\n",
      "\n",
      "Epoch 00044: loss did not improve from 0.31428\n",
      "Epoch 45/100\n",
      "577/577 [==============================] - 1s 2ms/step - loss: 0.3142 - acc: 0.3684 - val_loss: 0.3106 - val_acc: 0.3787\n",
      "\n",
      "Epoch 00045: loss improved from 0.31428 to 0.31425, saving model to ./first_cnn_autoencoder.hdf5\n",
      "Epoch 46/100\n",
      "577/577 [==============================] - 1s 2ms/step - loss: 0.3148 - acc: 0.3684 - val_loss: 0.3092 - val_acc: 0.3787\n",
      "\n",
      "Epoch 00046: loss did not improve from 0.31425\n",
      "Epoch 47/100\n",
      "577/577 [==============================] - 1s 2ms/step - loss: 0.3141 - acc: 0.3684 - val_loss: 0.3090 - val_acc: 0.3787\n",
      "\n",
      "Epoch 00047: loss improved from 0.31425 to 0.31410, saving model to ./first_cnn_autoencoder.hdf5\n",
      "Epoch 48/100\n",
      "577/577 [==============================] - 1s 2ms/step - loss: 0.3145 - acc: 0.3684 - val_loss: 0.3089 - val_acc: 0.3787\n",
      "\n",
      "Epoch 00048: loss did not improve from 0.31410\n",
      "Epoch 49/100\n",
      "577/577 [==============================] - 1s 2ms/step - loss: 0.3142 - acc: 0.3684 - val_loss: 0.3108 - val_acc: 0.3787\n",
      "\n",
      "Epoch 00049: loss did not improve from 0.31410\n",
      "Epoch 50/100\n",
      "577/577 [==============================] - 1s 2ms/step - loss: 0.3141 - acc: 0.3684 - val_loss: 0.3090 - val_acc: 0.3787\n",
      "\n",
      "Epoch 00050: loss did not improve from 0.31410\n",
      "Epoch 51/100\n",
      "577/577 [==============================] - 1s 2ms/step - loss: 0.3138 - acc: 0.3684 - val_loss: 0.3087 - val_acc: 0.3787\n",
      "\n",
      "Epoch 00051: loss improved from 0.31410 to 0.31378, saving model to ./first_cnn_autoencoder.hdf5\n",
      "Epoch 52/100\n",
      "577/577 [==============================] - 1s 2ms/step - loss: 0.3146 - acc: 0.3684 - val_loss: 0.3089 - val_acc: 0.3787\n",
      "\n",
      "Epoch 00052: loss did not improve from 0.31378\n",
      "Epoch 53/100\n",
      "577/577 [==============================] - 1s 2ms/step - loss: 0.3138 - acc: 0.3684 - val_loss: 0.3088 - val_acc: 0.3787\n",
      "\n",
      "Epoch 00053: loss did not improve from 0.31378\n",
      "Epoch 54/100\n",
      "577/577 [==============================] - 1s 2ms/step - loss: 0.3136 - acc: 0.3684 - val_loss: 0.3086 - val_acc: 0.3787\n",
      "\n",
      "Epoch 00054: loss improved from 0.31378 to 0.31358, saving model to ./first_cnn_autoencoder.hdf5\n",
      "Epoch 55/100\n",
      "577/577 [==============================] - 1s 2ms/step - loss: 0.3139 - acc: 0.3684 - val_loss: 0.3105 - val_acc: 0.3787\n",
      "\n",
      "Epoch 00055: loss did not improve from 0.31358\n",
      "Epoch 56/100\n",
      "577/577 [==============================] - 1s 2ms/step - loss: 0.3140 - acc: 0.3684 - val_loss: 0.3086 - val_acc: 0.3787\n",
      "\n",
      "Epoch 00056: loss did not improve from 0.31358\n",
      "Epoch 57/100\n",
      "577/577 [==============================] - 1s 2ms/step - loss: 0.3138 - acc: 0.3684 - val_loss: 0.3107 - val_acc: 0.3787\n",
      "\n",
      "Epoch 00057: loss did not improve from 0.31358\n",
      "Epoch 58/100\n",
      "577/577 [==============================] - 1s 2ms/step - loss: 0.3140 - acc: 0.3684 - val_loss: 0.3146 - val_acc: 0.3787\n",
      "\n",
      "Epoch 00058: loss did not improve from 0.31358\n",
      "Epoch 59/100\n",
      "577/577 [==============================] - 1s 2ms/step - loss: 0.3139 - acc: 0.3684 - val_loss: 0.3088 - val_acc: 0.3787\n",
      "\n",
      "Epoch 00059: loss did not improve from 0.31358\n",
      "Epoch 60/100\n",
      "577/577 [==============================] - 1s 2ms/step - loss: 0.3137 - acc: 0.3684 - val_loss: 0.3087 - val_acc: 0.3787\n",
      "\n",
      "Epoch 00060: loss did not improve from 0.31358\n",
      "Epoch 61/100\n",
      "577/577 [==============================] - 1s 2ms/step - loss: 0.3135 - acc: 0.3684 - val_loss: 0.3084 - val_acc: 0.3787\n",
      "\n",
      "Epoch 00061: loss improved from 0.31358 to 0.31348, saving model to ./first_cnn_autoencoder.hdf5\n",
      "Epoch 62/100\n",
      "577/577 [==============================] - 1s 2ms/step - loss: 0.3137 - acc: 0.3684 - val_loss: 0.3091 - val_acc: 0.3788\n",
      "\n",
      "Epoch 00062: loss did not improve from 0.31348\n",
      "Epoch 63/100\n",
      "577/577 [==============================] - 1s 2ms/step - loss: 0.3136 - acc: 0.3684 - val_loss: 0.3114 - val_acc: 0.3787\n",
      "\n",
      "Epoch 00063: loss did not improve from 0.31348\n",
      "Epoch 64/100\n",
      "577/577 [==============================] - 1s 2ms/step - loss: 0.3138 - acc: 0.3684 - val_loss: 0.3111 - val_acc: 0.3787\n",
      "\n",
      "Epoch 00064: loss did not improve from 0.31348\n",
      "Epoch 65/100\n",
      "577/577 [==============================] - 1s 2ms/step - loss: 0.3135 - acc: 0.3684 - val_loss: 0.3107 - val_acc: 0.3788\n",
      "\n",
      "Epoch 00065: loss improved from 0.31348 to 0.31346, saving model to ./first_cnn_autoencoder.hdf5\n",
      "Epoch 66/100\n",
      "577/577 [==============================] - 1s 2ms/step - loss: 0.3134 - acc: 0.3684 - val_loss: 0.3089 - val_acc: 0.3787\n",
      "\n",
      "Epoch 00066: loss improved from 0.31346 to 0.31336, saving model to ./first_cnn_autoencoder.hdf5\n",
      "Epoch 67/100\n",
      "577/577 [==============================] - 1s 2ms/step - loss: 0.3132 - acc: 0.3684 - val_loss: 0.3085 - val_acc: 0.3787\n",
      "\n",
      "Epoch 00067: loss improved from 0.31336 to 0.31322, saving model to ./first_cnn_autoencoder.hdf5\n",
      "Epoch 68/100\n",
      "577/577 [==============================] - 1s 2ms/step - loss: 0.3135 - acc: 0.3684 - val_loss: 0.3081 - val_acc: 0.3787\n",
      "\n",
      "Epoch 00068: loss did not improve from 0.31322\n",
      "Epoch 69/100\n",
      "577/577 [==============================] - 1s 2ms/step - loss: 0.3131 - acc: 0.3684 - val_loss: 0.3082 - val_acc: 0.3787\n",
      "\n",
      "Epoch 00069: loss improved from 0.31322 to 0.31311, saving model to ./first_cnn_autoencoder.hdf5\n",
      "Epoch 70/100\n",
      "577/577 [==============================] - 1s 2ms/step - loss: 0.3128 - acc: 0.3684 - val_loss: 0.3098 - val_acc: 0.3787\n",
      "\n",
      "Epoch 00070: loss improved from 0.31311 to 0.31283, saving model to ./first_cnn_autoencoder.hdf5\n",
      "Epoch 71/100\n",
      "577/577 [==============================] - 1s 2ms/step - loss: 0.3133 - acc: 0.3684 - val_loss: 0.3082 - val_acc: 0.3787\n",
      "\n",
      "Epoch 00071: loss did not improve from 0.31283\n",
      "Epoch 72/100\n",
      "577/577 [==============================] - 1s 2ms/step - loss: 0.3133 - acc: 0.3684 - val_loss: 0.3095 - val_acc: 0.3788\n",
      "\n",
      "Epoch 00072: loss did not improve from 0.31283\n",
      "Epoch 73/100\n",
      "577/577 [==============================] - 1s 2ms/step - loss: 0.3127 - acc: 0.3684 - val_loss: 0.3086 - val_acc: 0.3787\n",
      "\n",
      "Epoch 00073: loss improved from 0.31283 to 0.31275, saving model to ./first_cnn_autoencoder.hdf5\n",
      "Epoch 74/100\n",
      "577/577 [==============================] - 1s 2ms/step - loss: 0.3135 - acc: 0.3684 - val_loss: 0.3093 - val_acc: 0.3788\n",
      "\n",
      "Epoch 00074: loss did not improve from 0.31275\n",
      "Epoch 75/100\n",
      "577/577 [==============================] - 1s 2ms/step - loss: 0.3129 - acc: 0.3684 - val_loss: 0.3083 - val_acc: 0.3787\n",
      "\n",
      "Epoch 00075: loss did not improve from 0.31275\n",
      "Epoch 76/100\n",
      "577/577 [==============================] - 1s 2ms/step - loss: 0.3128 - acc: 0.3684 - val_loss: 0.3081 - val_acc: 0.3787\n",
      "\n",
      "Epoch 00076: loss did not improve from 0.31275\n",
      "Epoch 77/100\n",
      "577/577 [==============================] - 1s 2ms/step - loss: 0.3134 - acc: 0.3684 - val_loss: 0.3079 - val_acc: 0.3787\n",
      "\n",
      "Epoch 00077: loss did not improve from 0.31275\n",
      "Epoch 78/100\n",
      "577/577 [==============================] - 1s 2ms/step - loss: 0.3131 - acc: 0.3684 - val_loss: 0.3097 - val_acc: 0.3788\n",
      "\n",
      "Epoch 00078: loss did not improve from 0.31275\n",
      "Epoch 79/100\n",
      "577/577 [==============================] - 1s 2ms/step - loss: 0.3128 - acc: 0.3684 - val_loss: 0.3079 - val_acc: 0.3788\n",
      "\n",
      "Epoch 00079: loss did not improve from 0.31275\n",
      "Epoch 80/100\n",
      "577/577 [==============================] - 1s 2ms/step - loss: 0.3128 - acc: 0.3684 - val_loss: 0.3082 - val_acc: 0.3788\n",
      "\n",
      "Epoch 00080: loss did not improve from 0.31275\n",
      "Epoch 81/100\n",
      "577/577 [==============================] - 1s 2ms/step - loss: 0.3126 - acc: 0.3684 - val_loss: 0.3083 - val_acc: 0.3787\n",
      "\n",
      "Epoch 00081: loss improved from 0.31275 to 0.31263, saving model to ./first_cnn_autoencoder.hdf5\n",
      "Epoch 82/100\n",
      "577/577 [==============================] - 1s 2ms/step - loss: 0.3131 - acc: 0.3684 - val_loss: 0.3081 - val_acc: 0.3788\n",
      "\n",
      "Epoch 00082: loss did not improve from 0.31263\n",
      "Epoch 83/100\n",
      "577/577 [==============================] - 1s 2ms/step - loss: 0.3125 - acc: 0.3684 - val_loss: 0.3078 - val_acc: 0.3788\n",
      "\n",
      "Epoch 00083: loss improved from 0.31263 to 0.31251, saving model to ./first_cnn_autoencoder.hdf5\n",
      "Epoch 84/100\n",
      "577/577 [==============================] - 1s 2ms/step - loss: 0.3129 - acc: 0.3684 - val_loss: 0.3118 - val_acc: 0.3788\n",
      "\n",
      "Epoch 00084: loss did not improve from 0.31251\n",
      "Epoch 85/100\n",
      "577/577 [==============================] - 1s 2ms/step - loss: 0.3129 - acc: 0.3684 - val_loss: 0.3082 - val_acc: 0.3787\n",
      "\n",
      "Epoch 00085: loss did not improve from 0.31251\n",
      "Epoch 86/100\n",
      "577/577 [==============================] - 1s 2ms/step - loss: 0.3128 - acc: 0.3684 - val_loss: 0.3078 - val_acc: 0.3788\n",
      "\n",
      "Epoch 00086: loss did not improve from 0.31251\n",
      "Epoch 87/100\n",
      "577/577 [==============================] - 1s 2ms/step - loss: 0.3122 - acc: 0.3684 - val_loss: 0.3106 - val_acc: 0.3787\n",
      "\n",
      "Epoch 00087: loss improved from 0.31251 to 0.31219, saving model to ./first_cnn_autoencoder.hdf5\n",
      "Epoch 88/100\n",
      "577/577 [==============================] - 1s 2ms/step - loss: 0.3126 - acc: 0.3684 - val_loss: 0.3082 - val_acc: 0.3788\n",
      "\n",
      "Epoch 00088: loss did not improve from 0.31219\n",
      "Epoch 89/100\n",
      "577/577 [==============================] - 1s 2ms/step - loss: 0.3128 - acc: 0.3684 - val_loss: 0.3078 - val_acc: 0.3787\n",
      "\n",
      "Epoch 00089: loss did not improve from 0.31219\n",
      "Epoch 90/100\n",
      "577/577 [==============================] - 1s 2ms/step - loss: 0.3125 - acc: 0.3684 - val_loss: 0.3081 - val_acc: 0.3787\n",
      "\n",
      "Epoch 00090: loss did not improve from 0.31219\n",
      "Epoch 91/100\n",
      "577/577 [==============================] - 1s 2ms/step - loss: 0.3127 - acc: 0.3684 - val_loss: 0.3076 - val_acc: 0.3788\n",
      "\n",
      "Epoch 00091: loss did not improve from 0.31219\n",
      "Epoch 92/100\n",
      "577/577 [==============================] - 1s 2ms/step - loss: 0.3125 - acc: 0.3684 - val_loss: 0.3076 - val_acc: 0.3787\n",
      "\n",
      "Epoch 00092: loss did not improve from 0.31219\n",
      "Epoch 93/100\n",
      "577/577 [==============================] - 1s 2ms/step - loss: 0.3125 - acc: 0.3684 - val_loss: 0.3077 - val_acc: 0.3788\n",
      "\n",
      "Epoch 00093: loss did not improve from 0.31219\n",
      "Epoch 94/100\n",
      "577/577 [==============================] - 1s 2ms/step - loss: 0.3129 - acc: 0.3684 - val_loss: 0.3077 - val_acc: 0.3788\n",
      "\n",
      "Epoch 00094: loss did not improve from 0.31219\n",
      "Epoch 95/100\n",
      "577/577 [==============================] - 1s 2ms/step - loss: 0.3123 - acc: 0.3684 - val_loss: 0.3090 - val_acc: 0.3788\n",
      "\n",
      "Epoch 00095: loss did not improve from 0.31219\n",
      "Epoch 96/100\n",
      "577/577 [==============================] - 1s 2ms/step - loss: 0.3126 - acc: 0.3684 - val_loss: 0.3079 - val_acc: 0.3788\n",
      "\n",
      "Epoch 00096: loss did not improve from 0.31219\n",
      "Epoch 97/100\n",
      "577/577 [==============================] - 1s 2ms/step - loss: 0.3126 - acc: 0.3684 - val_loss: 0.3090 - val_acc: 0.3787\n",
      "\n",
      "Epoch 00097: loss did not improve from 0.31219\n",
      "Epoch 98/100\n",
      "577/577 [==============================] - 1s 2ms/step - loss: 0.3125 - acc: 0.3684 - val_loss: 0.3077 - val_acc: 0.3788\n",
      "\n",
      "Epoch 00098: loss did not improve from 0.31219\n",
      "Epoch 99/100\n",
      "577/577 [==============================] - 1s 2ms/step - loss: 0.3128 - acc: 0.3684 - val_loss: 0.3076 - val_acc: 0.3788\n",
      "\n",
      "Epoch 00099: loss did not improve from 0.31219\n",
      "Epoch 100/100\n",
      "577/577 [==============================] - 1s 2ms/step - loss: 0.3123 - acc: 0.3684 - val_loss: 0.3081 - val_acc: 0.3788\n",
      "\n",
      "Epoch 00100: loss did not improve from 0.31219\n"
     ]
    }
   ],
   "source": [
    "import h5py\n",
    "#Training the model\n",
    "history = autoenc.fit(x_train_noisy, x_train_gt,\n",
    "                epochs=100,\n",
    "                batch_size=10,\n",
    "                shuffle=True,\n",
    "                validation_data=(x_valid_noisy, x_valid_gt),\n",
    "                callbacks=[TensorBoard(log_dir='/tmp/autoencoder', histogram_freq=0, write_graph=True),model_checkpoint])"
   ]
  },
  {
   "cell_type": "markdown",
   "metadata": {
    "colab_type": "text",
    "id": "HB1Vj0CSb8a4"
   },
   "source": [
    "**Test for gaussian noise**"
   ]
  },
  {
   "cell_type": "code",
   "execution_count": 0,
   "metadata": {
    "colab": {},
    "colab_type": "code",
    "collapsed": true,
    "id": "rsi5cH-9b1fg"
   },
   "outputs": [],
   "source": [
    "#Getting images to test\n",
    "def get_testing_images(ground_truth, noisy_images):\n",
    "    test_images_gt = ground_truth[722:]/255.\n",
    "    test_images_noisy = noisy_images[722:]/255.\n",
    "    print (test_images_noisy.shape)\n",
    "    print (test_images_gt.shape)\n",
    "    return (test_images_gt,test_images_noisy)"
   ]
  },
  {
   "cell_type": "code",
   "execution_count": 0,
   "metadata": {
    "colab": {
     "base_uri": "https://localhost:8080/",
     "height": 51
    },
    "colab_type": "code",
    "collapsed": false,
    "id": "nb1jG4MMb1p7",
    "outputId": "9b56dd6f-3b6c-4a54-e4fd-b5a5cffd9dbd"
   },
   "outputs": [
    {
     "name": "stdout",
     "output_type": "stream",
     "text": [
      "(120, 64, 64, 1)\n",
      "(120, 64, 64, 1)\n"
     ]
    }
   ],
   "source": [
    "test_images_gt, test_images_noisy = get_testing_images(ground_truth, noisy_images)"
   ]
  },
  {
   "cell_type": "code",
   "execution_count": 0,
   "metadata": {
    "colab": {
     "base_uri": "https://localhost:8080/",
     "height": 51
    },
    "colab_type": "code",
    "collapsed": false,
    "id": "8URM7zFQb1x8",
    "outputId": "90132275-f1ef-4311-e969-2ded6499aee2"
   },
   "outputs": [
    {
     "name": "stdout",
     "output_type": "stream",
     "text": [
      "120/120 [==============================] - 0s 2ms/step\n"
     ]
    },
    {
     "data": {
      "text/plain": [
       "(120, 64, 64, 1)"
      ]
     },
     "execution_count": 189,
     "metadata": {
      "tags": []
     },
     "output_type": "execute_result"
    }
   ],
   "source": [
    "out_autoencoder = autoenc.predict(test_images_noisy, verbose=1)\n",
    "out_autoencoder.shape"
   ]
  },
  {
   "cell_type": "markdown",
   "metadata": {
    "colab_type": "text",
    "id": "Tn7bh0RxHCJ2"
   },
   "source": [
    "*PSNR and SSIM function*"
   ]
  },
  {
   "cell_type": "code",
   "execution_count": 0,
   "metadata": {
    "colab": {},
    "colab_type": "code",
    "collapsed": true,
    "id": "xhHhZYxOeSx1"
   },
   "outputs": [],
   "source": [
    "from sklearn.metrics import mean_squared_error\n",
    "\n",
    "def get_psnr(imageA,imageB):\n",
    "    maxI = 1.0\n",
    "    try:\n",
    "        return 20*math.log10(maxI) - 10*math.log10(mean_squared_error(imageA.flatten(),imageB.flatten()))\n",
    "    except:\n",
    "        return 20*math.log10(maxI)\n",
    "\n",
    "def get_psnr_result(x_test, out):\n",
    "    psnr_sum = 0\n",
    "    for i in range(out.shape[0]):\n",
    "        psnr_sum += get_psnr(x_test[i].reshape(64,64),out[i].reshape(64,64))\n",
    "        \n",
    "    return 1.0*psnr_sum/out.shape[0];\n",
    "\n",
    "def get_ssim_result(originalSet,noisySet):\n",
    "    ssim_sum = 0\n",
    "    originalSet = originalSet.reshape(originalSet.shape[0],64, 64, 1)\n",
    "    noisySet = noisySet.reshape(noisySet.shape[0],64, 64, 1)\n",
    "    for i in range(originalSet.shape[0]):\n",
    "        ssim_sum += ssim(originalSet[i], noisySet[i],data_range=originalSet[i].max() - noisySet[i].min(), multichannel=True)\n",
    "    return 1.0*ssim_sum/originalSet.shape[0]"
   ]
  },
  {
   "cell_type": "markdown",
   "metadata": {
    "colab_type": "text",
    "id": "w7COGy2SHN8g"
   },
   "source": [
    "*Non-local mean filter*"
   ]
  },
  {
   "cell_type": "code",
   "execution_count": 0,
   "metadata": {
    "colab": {},
    "colab_type": "code",
    "collapsed": true,
    "id": "YYTOK_3PegfX"
   },
   "outputs": [],
   "source": [
    "def nlm_denoise(noisy_image):\n",
    "    noisy_image = noisy_image.reshape(noisy_image.shape[0],64,64)\n",
    "    noisy_image = noisy_image*255.0\n",
    "    denoised = []\n",
    "    \n",
    "    for image in noisy_image:\n",
    "        denoised_image = denoise_nl_means(image, 7, 11, 0.5)\n",
    "        denoised.append(denoised_image)\n",
    "        \n",
    "    return np.array(denoised)"
   ]
  },
  {
   "cell_type": "code",
   "execution_count": 0,
   "metadata": {
    "colab": {
     "base_uri": "https://localhost:8080/",
     "height": 71
    },
    "colab_type": "code",
    "collapsed": false,
    "id": "E1rHTeB5j4Kz",
    "outputId": "033dc12a-0060-4dcd-d6d2-959ff548de14"
   },
   "outputs": [
    {
     "name": "stderr",
     "output_type": "stream",
     "text": [
      "/usr/local/lib/python3.6/dist-packages/skimage/restoration/non_local_means.py:108: UserWarning: denoise_nl_means will default to multichannel=False in v0.15\n",
      "  warn('denoise_nl_means will default to multichannel=False in v0.15')\n"
     ]
    }
   ],
   "source": [
    "nlm_out = nlm_denoise(test_images_noisy)\n",
    "nlm_out = nlm_out.astype('float32')/255.0"
   ]
  },
  {
   "cell_type": "code",
   "execution_count": 0,
   "metadata": {
    "colab": {},
    "colab_type": "code",
    "collapsed": true,
    "id": "tgX2kjeEfyBp"
   },
   "outputs": [],
   "source": [
    "def median_filter(noisy_set, kernel=3):\n",
    "    med_set = np.zeros(noisy_set.shape, dtype=float)\n",
    "    for i in range(noisy_set.shape[0]):\n",
    "        im_med = cv2.medianBlur(noisy_set[i].astype('float32'), kernel)\n",
    "        med_set[i] = np.expand_dims(im_med, axis=2)\n",
    "        \n",
    "    return med_set"
   ]
  },
  {
   "cell_type": "code",
   "execution_count": 0,
   "metadata": {
    "colab": {},
    "colab_type": "code",
    "collapsed": true,
    "id": "H4wWlxGkIGmE"
   },
   "outputs": [],
   "source": [
    "median_out = median_filter(test_images_noisy).astype('float32')"
   ]
  },
  {
   "cell_type": "code",
   "execution_count": 0,
   "metadata": {
    "colab": {
     "base_uri": "https://localhost:8080/",
     "height": 85
    },
    "colab_type": "code",
    "collapsed": false,
    "id": "lRPJ9UgiehlK",
    "outputId": "29269433-6e63-4537-de9f-540780fae78c"
   },
   "outputs": [
    {
     "name": "stdout",
     "output_type": "stream",
     "text": [
      "psnr of noisy set: 20.17624388036769\n",
      "psnr of median filter: 25.488806784050624\n",
      "psnr of non-local mean filter: 20.17624388036769\n",
      "psnr of CNN_DAE: 29.4176428156238\n"
     ]
    }
   ],
   "source": [
    "print(\"psnr of noisy set:\", get_psnr_result(test_images_noisy, test_images_gt))\n",
    "print(\"psnr of median filter:\", get_psnr_result(median_out, test_images_gt))\n",
    "print(\"psnr of non-local mean filter:\", get_psnr_result(nlm_out, test_images_gt))\n",
    "print(\"psnr of CNN_DAE:\", get_psnr_result(out_autoencoder, test_images_gt))"
   ]
  },
  {
   "cell_type": "code",
   "execution_count": 0,
   "metadata": {
    "colab": {
     "base_uri": "https://localhost:8080/",
     "height": 85
    },
    "colab_type": "code",
    "collapsed": false,
    "id": "nxJ7hYsIhrwS",
    "outputId": "7e2ee0bb-7710-4906-f624-12a622c96a81"
   },
   "outputs": [
    {
     "name": "stdout",
     "output_type": "stream",
     "text": [
      "ssim of noisy set: 0.42119919754169605\n",
      "ssim of median filter: 0.5898980133417541\n",
      "ssim of non-local mean filter: 0.42119919754169605\n",
      "ssim of CNN_DAE: 0.8715594162950887\n"
     ]
    }
   ],
   "source": [
    "print(\"ssim of noisy set:\", get_ssim_result(test_images_gt, test_images_noisy))\n",
    "print(\"ssim of median filter:\", get_ssim_result(test_images_gt, median_out))\n",
    "print(\"ssim of non-local mean filter:\", get_ssim_result(test_images_gt, nlm_out))\n",
    "print(\"ssim of CNN_DAE:\", get_ssim_result(test_images_gt, out_autoencoder))"
   ]
  },
  {
   "cell_type": "code",
   "execution_count": 0,
   "metadata": {
    "colab": {
     "base_uri": "https://localhost:8080/",
     "height": 865
    },
    "colab_type": "code",
    "collapsed": false,
    "id": "m9HH1aIzPEjV",
    "outputId": "fc82afed-0d3b-4ee2-ab93-efb275037c77"
   },
   "outputs": [
    {
     "data": {
      "image/png": "[encoded data removed]",
      "text/plain": [
       "<matplotlib.figure.Figure at 0x7f85c18b54a8>"
      ]
     },
     "metadata": {
      "tags": []
     },
     "output_type": "display_data"
    }
   ],
   "source": [
    "id_gausse = [95, 10, 110]\n",
    "rows = 3\n",
    "columns = 3\n",
    "fig = plt.figure(figsize=(15, 15))\n",
    "for i in range( columns*rows ):\n",
    "    #img = np.random.randint(10, size=(h,w))\n",
    "    # create subplot and append to ax\n",
    "    ax = fig.add_subplot(rows, columns, i+1)\n",
    "    #ax[-1].set_title(\"ax:\"+str(i))  # set title\n",
    "    if i<3:\n",
    "        ax.imshow(np.squeeze(test_images_noisy[id_gausse[i%3]], axis=2), cmap='Greys_r')\n",
    "    elif 3<=i<6:\n",
    "        ax.imshow(np.squeeze(median_out[id_gausse[i%3]], axis=2), cmap='Greys_r')\n",
    "    else:\n",
    "        ax.imshow(np.squeeze(out_autoencoder[id_gausse[i%3]], axis=2), cmap='Greys_r')\n",
    "plt.show()\n",
    "fig.savefig('gausse_denoise_model')"
   ]
  },
  {
   "cell_type": "markdown",
   "metadata": {
    "colab_type": "text",
    "id": "L5QsXoqimCaa"
   },
   "source": [
    "###**Combine median filter with CNN_DEA for gaussian noise**"
   ]
  },
  {
   "cell_type": "code",
   "execution_count": 0,
   "metadata": {
    "colab": {
     "base_uri": "https://localhost:8080/",
     "height": 51
    },
    "colab_type": "code",
    "collapsed": false,
    "id": "WwTleQfDovir",
    "outputId": "60bcfc4c-032f-4054-f627-6f36055f5ce5"
   },
   "outputs": [
    {
     "name": "stdout",
     "output_type": "stream",
     "text": [
      "(577, 64, 64, 1)\n",
      "(145, 64, 64, 1)\n"
     ]
    }
   ],
   "source": [
    "x_train_noisy_med = median_filter(x_train_noisy, kernel=3).astype('float32')\n",
    "x_valid_noisy_med = median_filter(x_valid_noisy, kernel=3).astype('float32')\n",
    "print(x_train_noisy_med.shape)\n",
    "print(x_valid_noisy_med.shape)"
   ]
  },
  {
   "cell_type": "code",
   "execution_count": 0,
   "metadata": {
    "colab": {
     "base_uri": "https://localhost:8080/",
     "height": 612
    },
    "colab_type": "code",
    "collapsed": false,
    "id": "GrLBoW1HpMIF",
    "outputId": "51716131-5c20-4658-80b0-b1893cf65c3b"
   },
   "outputs": [
    {
     "name": "stdout",
     "output_type": "stream",
     "text": [
      "_________________________________________________________________\n",
      "Layer (type)                 Output Shape              Param #   \n",
      "=================================================================\n",
      "inputs (InputLayer)          (None, 64, 64, 1)         0         \n",
      "_________________________________________________________________\n",
      "en_conv1 (Conv2D)            (None, 64, 64, 64)        640       \n",
      "_________________________________________________________________\n",
      "leaky_re_lu_25 (LeakyReLU)   (None, 64, 64, 64)        0         \n",
      "_________________________________________________________________\n",
      "en_pool1 (MaxPooling2D)      (None, 32, 32, 64)        0         \n",
      "_________________________________________________________________\n",
      "en_conv2 (Conv2D)            (None, 32, 32, 64)        36928     \n",
      "_________________________________________________________________\n",
      "leaky_re_lu_26 (LeakyReLU)   (None, 32, 32, 64)        0         \n",
      "_________________________________________________________________\n",
      "en_pool2 (MaxPooling2D)      (None, 16, 16, 64)        0         \n",
      "_________________________________________________________________\n",
      "de_conv1 (Conv2D)            (None, 16, 16, 64)        36928     \n",
      "_________________________________________________________________\n",
      "leaky_re_lu_27 (LeakyReLU)   (None, 16, 16, 64)        0         \n",
      "_________________________________________________________________\n",
      "upsampling1 (UpSampling2D)   (None, 32, 32, 64)        0         \n",
      "_________________________________________________________________\n",
      "de_conv2 (Conv2D)            (None, 32, 32, 64)        36928     \n",
      "_________________________________________________________________\n",
      "leaky_re_lu_28 (LeakyReLU)   (None, 32, 32, 64)        0         \n",
      "_________________________________________________________________\n",
      "upsampling2 (UpSampling2D)   (None, 64, 64, 64)        0         \n",
      "_________________________________________________________________\n",
      "de_conv3 (Conv2D)            (None, 64, 64, 1)         577       \n",
      "=================================================================\n",
      "Total params: 112,001\n",
      "Trainable params: 112,001\n",
      "Non-trainable params: 0\n",
      "_________________________________________________________________\n"
     ]
    }
   ],
   "source": [
    "from keras.models import Model\n",
    "from keras.layers import (Input, Conv2D, MaxPooling2D, UpSampling2D, LeakyReLU)\n",
    "from keras import backend as K\n",
    "from keras.callbacks import TensorBoard, ModelCheckpoint\n",
    "\n",
    "input_shape=x_train_noisy_med[0].shape\n",
    "autoencoder_gauss_median = DAE_CNN(input_shape)\n",
    "model_checkpoint = ModelCheckpoint('./first_cnn_autoencoder.hdf5',monitor = 'loss', verbose = 1,save_best_only=True)"
   ]
  },
  {
   "cell_type": "code",
   "execution_count": 0,
   "metadata": {
    "colab": {
     "base_uri": "https://localhost:8080/",
     "height": 6851
    },
    "colab_type": "code",
    "collapsed": false,
    "id": "4rxKwbtkpMXj",
    "outputId": "dc6cace6-941c-48be-ae00-3509d6a5748e"
   },
   "outputs": [
    {
     "name": "stdout",
     "output_type": "stream",
     "text": [
      "Train on 577 samples, validate on 145 samples\n",
      "Epoch 1/100\n",
      "577/577 [==============================] - 2s 4ms/step - loss: 0.4097 - acc: 0.3589 - val_loss: 0.3470 - val_acc: 0.3771\n",
      "\n",
      "Epoch 00001: loss improved from inf to 0.40967, saving model to ./first_cnn_autoencoder.hdf5\n",
      "Epoch 2/100\n",
      "577/577 [==============================] - 2s 3ms/step - loss: 0.3474 - acc: 0.3669 - val_loss: 0.3358 - val_acc: 0.3769\n",
      "\n",
      "Epoch 00002: loss improved from 0.40967 to 0.34743, saving model to ./first_cnn_autoencoder.hdf5\n",
      "Epoch 3/100\n",
      "577/577 [==============================] - 2s 3ms/step - loss: 0.3383 - acc: 0.3669 - val_loss: 0.3276 - val_acc: 0.3770\n",
      "\n",
      "Epoch 00003: loss improved from 0.34743 to 0.33835, saving model to ./first_cnn_autoencoder.hdf5\n",
      "Epoch 4/100\n",
      "577/577 [==============================] - 2s 3ms/step - loss: 0.3340 - acc: 0.3669 - val_loss: 0.3338 - val_acc: 0.3774\n",
      "\n",
      "Epoch 00004: loss improved from 0.33835 to 0.33398, saving model to ./first_cnn_autoencoder.hdf5\n",
      "Epoch 5/100\n",
      "577/577 [==============================] - 2s 3ms/step - loss: 0.3309 - acc: 0.3671 - val_loss: 0.3253 - val_acc: 0.3773\n",
      "\n",
      "Epoch 00005: loss improved from 0.33398 to 0.33091, saving model to ./first_cnn_autoencoder.hdf5\n",
      "Epoch 6/100\n",
      "577/577 [==============================] - 2s 3ms/step - loss: 0.3297 - acc: 0.3672 - val_loss: 0.3236 - val_acc: 0.3774\n",
      "\n",
      "Epoch 00006: loss improved from 0.33091 to 0.32973, saving model to ./first_cnn_autoencoder.hdf5\n",
      "Epoch 7/100\n",
      "577/577 [==============================] - 2s 3ms/step - loss: 0.3277 - acc: 0.3674 - val_loss: 0.3311 - val_acc: 0.3771\n",
      "\n",
      "Epoch 00007: loss improved from 0.32973 to 0.32766, saving model to ./first_cnn_autoencoder.hdf5\n",
      "Epoch 8/100\n",
      "577/577 [==============================] - 2s 3ms/step - loss: 0.3266 - acc: 0.3675 - val_loss: 0.3218 - val_acc: 0.3775\n",
      "\n",
      "Epoch 00008: loss improved from 0.32766 to 0.32661, saving model to ./first_cnn_autoencoder.hdf5\n",
      "Epoch 9/100\n",
      "577/577 [==============================] - 2s 3ms/step - loss: 0.3257 - acc: 0.3676 - val_loss: 0.3187 - val_acc: 0.3778\n",
      "\n",
      "Epoch 00009: loss improved from 0.32661 to 0.32570, saving model to ./first_cnn_autoencoder.hdf5\n",
      "Epoch 10/100\n",
      "577/577 [==============================] - 2s 3ms/step - loss: 0.3246 - acc: 0.3676 - val_loss: 0.3186 - val_acc: 0.3783\n",
      "\n",
      "Epoch 00010: loss improved from 0.32570 to 0.32456, saving model to ./first_cnn_autoencoder.hdf5\n",
      "Epoch 11/100\n",
      "577/577 [==============================] - 2s 3ms/step - loss: 0.3242 - acc: 0.3678 - val_loss: 0.3181 - val_acc: 0.3782\n",
      "\n",
      "Epoch 00011: loss improved from 0.32456 to 0.32417, saving model to ./first_cnn_autoencoder.hdf5\n",
      "Epoch 12/100\n",
      "577/577 [==============================] - 2s 3ms/step - loss: 0.3233 - acc: 0.3679 - val_loss: 0.3167 - val_acc: 0.3783\n",
      "\n",
      "Epoch 00012: loss improved from 0.32417 to 0.32328, saving model to ./first_cnn_autoencoder.hdf5\n",
      "Epoch 13/100\n",
      "577/577 [==============================] - 2s 3ms/step - loss: 0.3233 - acc: 0.3679 - val_loss: 0.3192 - val_acc: 0.3785\n",
      "\n",
      "Epoch 00013: loss improved from 0.32328 to 0.32325, saving model to ./first_cnn_autoencoder.hdf5\n",
      "Epoch 14/100\n",
      "577/577 [==============================] - 2s 3ms/step - loss: 0.3222 - acc: 0.3680 - val_loss: 0.3179 - val_acc: 0.3786\n",
      "\n",
      "Epoch 00014: loss improved from 0.32325 to 0.32216, saving model to ./first_cnn_autoencoder.hdf5\n",
      "Epoch 15/100\n",
      "577/577 [==============================] - 1s 3ms/step - loss: 0.3221 - acc: 0.3681 - val_loss: 0.3154 - val_acc: 0.3785\n",
      "\n",
      "Epoch 00015: loss improved from 0.32216 to 0.32213, saving model to ./first_cnn_autoencoder.hdf5\n",
      "Epoch 16/100\n",
      "577/577 [==============================] - 2s 3ms/step - loss: 0.3214 - acc: 0.3681 - val_loss: 0.3159 - val_acc: 0.3786\n",
      "\n",
      "Epoch 00016: loss improved from 0.32213 to 0.32139, saving model to ./first_cnn_autoencoder.hdf5\n",
      "Epoch 17/100\n",
      "577/577 [==============================] - 1s 3ms/step - loss: 0.3214 - acc: 0.3681 - val_loss: 0.3172 - val_acc: 0.3786\n",
      "\n",
      "Epoch 00017: loss did not improve from 0.32139\n",
      "Epoch 18/100\n",
      "577/577 [==============================] - 1s 3ms/step - loss: 0.3209 - acc: 0.3681 - val_loss: 0.3149 - val_acc: 0.3786\n",
      "\n",
      "Epoch 00018: loss improved from 0.32139 to 0.32094, saving model to ./first_cnn_autoencoder.hdf5\n",
      "Epoch 19/100\n",
      "577/577 [==============================] - 1s 3ms/step - loss: 0.3201 - acc: 0.3682 - val_loss: 0.3146 - val_acc: 0.3786\n",
      "\n",
      "Epoch 00019: loss improved from 0.32094 to 0.32011, saving model to ./first_cnn_autoencoder.hdf5\n",
      "Epoch 20/100\n",
      "577/577 [==============================] - 1s 3ms/step - loss: 0.3199 - acc: 0.3682 - val_loss: 0.3162 - val_acc: 0.3786\n",
      "\n",
      "Epoch 00020: loss improved from 0.32011 to 0.31992, saving model to ./first_cnn_autoencoder.hdf5\n",
      "Epoch 21/100\n",
      "577/577 [==============================] - 1s 2ms/step - loss: 0.3203 - acc: 0.3682 - val_loss: 0.3162 - val_acc: 0.3786\n",
      "\n",
      "Epoch 00021: loss did not improve from 0.31992\n",
      "Epoch 22/100\n",
      "577/577 [==============================] - 1s 2ms/step - loss: 0.3195 - acc: 0.3682 - val_loss: 0.3170 - val_acc: 0.3786\n",
      "\n",
      "Epoch 00022: loss improved from 0.31992 to 0.31951, saving model to ./first_cnn_autoencoder.hdf5\n",
      "Epoch 23/100\n",
      "577/577 [==============================] - 1s 2ms/step - loss: 0.3190 - acc: 0.3683 - val_loss: 0.3151 - val_acc: 0.3787\n",
      "\n",
      "Epoch 00023: loss improved from 0.31951 to 0.31905, saving model to ./first_cnn_autoencoder.hdf5\n",
      "Epoch 24/100\n",
      "577/577 [==============================] - 1s 2ms/step - loss: 0.3193 - acc: 0.3683 - val_loss: 0.3131 - val_acc: 0.3787\n",
      "\n",
      "Epoch 00024: loss did not improve from 0.31905\n",
      "Epoch 25/100\n",
      "577/577 [==============================] - 1s 2ms/step - loss: 0.3184 - acc: 0.3683 - val_loss: 0.3146 - val_acc: 0.3787\n",
      "\n",
      "Epoch 00025: loss improved from 0.31905 to 0.31841, saving model to ./first_cnn_autoencoder.hdf5\n",
      "Epoch 26/100\n",
      "577/577 [==============================] - 1s 2ms/step - loss: 0.3188 - acc: 0.3683 - val_loss: 0.3141 - val_acc: 0.3787\n",
      "\n",
      "Epoch 00026: loss did not improve from 0.31841\n",
      "Epoch 27/100\n",
      "577/577 [==============================] - 1s 2ms/step - loss: 0.3178 - acc: 0.3683 - val_loss: 0.3127 - val_acc: 0.3787\n",
      "\n",
      "Epoch 00027: loss improved from 0.31841 to 0.31785, saving model to ./first_cnn_autoencoder.hdf5\n",
      "Epoch 28/100\n",
      "577/577 [==============================] - 1s 2ms/step - loss: 0.3182 - acc: 0.3683 - val_loss: 0.3159 - val_acc: 0.3787\n",
      "\n",
      "Epoch 00028: loss did not improve from 0.31785\n",
      "Epoch 29/100\n",
      "577/577 [==============================] - 1s 2ms/step - loss: 0.3181 - acc: 0.3683 - val_loss: 0.3125 - val_acc: 0.3787\n",
      "\n",
      "Epoch 00029: loss did not improve from 0.31785\n",
      "Epoch 30/100\n",
      "577/577 [==============================] - 1s 2ms/step - loss: 0.3178 - acc: 0.3683 - val_loss: 0.3133 - val_acc: 0.3787\n",
      "\n",
      "Epoch 00030: loss improved from 0.31785 to 0.31781, saving model to ./first_cnn_autoencoder.hdf5\n",
      "Epoch 31/100\n",
      "577/577 [==============================] - 1s 2ms/step - loss: 0.3178 - acc: 0.3684 - val_loss: 0.3134 - val_acc: 0.3787\n",
      "\n",
      "Epoch 00031: loss did not improve from 0.31781\n",
      "Epoch 32/100\n",
      "577/577 [==============================] - 1s 2ms/step - loss: 0.3171 - acc: 0.3684 - val_loss: 0.3140 - val_acc: 0.3787\n",
      "\n",
      "Epoch 00032: loss improved from 0.31781 to 0.31708, saving model to ./first_cnn_autoencoder.hdf5\n",
      "Epoch 33/100\n",
      "577/577 [==============================] - 1s 2ms/step - loss: 0.3173 - acc: 0.3684 - val_loss: 0.3117 - val_acc: 0.3787\n",
      "\n",
      "Epoch 00033: loss did not improve from 0.31708\n",
      "Epoch 34/100\n",
      "577/577 [==============================] - 1s 2ms/step - loss: 0.3172 - acc: 0.3684 - val_loss: 0.3159 - val_acc: 0.3787\n",
      "\n",
      "Epoch 00034: loss did not improve from 0.31708\n",
      "Epoch 35/100\n",
      "577/577 [==============================] - 1s 2ms/step - loss: 0.3173 - acc: 0.3684 - val_loss: 0.3114 - val_acc: 0.3787\n",
      "\n",
      "Epoch 00035: loss did not improve from 0.31708\n",
      "Epoch 36/100\n",
      "577/577 [==============================] - 1s 2ms/step - loss: 0.3171 - acc: 0.3684 - val_loss: 0.3113 - val_acc: 0.3787\n",
      "\n",
      "Epoch 00036: loss did not improve from 0.31708\n",
      "Epoch 37/100\n",
      "577/577 [==============================] - 1s 2ms/step - loss: 0.3168 - acc: 0.3684 - val_loss: 0.3112 - val_acc: 0.3787\n",
      "\n",
      "Epoch 00037: loss improved from 0.31708 to 0.31681, saving model to ./first_cnn_autoencoder.hdf5\n",
      "Epoch 38/100\n",
      "577/577 [==============================] - 1s 2ms/step - loss: 0.3167 - acc: 0.3684 - val_loss: 0.3124 - val_acc: 0.3787\n",
      "\n",
      "Epoch 00038: loss improved from 0.31681 to 0.31670, saving model to ./first_cnn_autoencoder.hdf5\n",
      "Epoch 39/100\n",
      "577/577 [==============================] - 1s 2ms/step - loss: 0.3168 - acc: 0.3684 - val_loss: 0.3123 - val_acc: 0.3787\n",
      "\n",
      "Epoch 00039: loss did not improve from 0.31670\n",
      "Epoch 40/100\n",
      "577/577 [==============================] - 1s 2ms/step - loss: 0.3161 - acc: 0.3684 - val_loss: 0.3113 - val_acc: 0.3787\n",
      "\n",
      "Epoch 00040: loss improved from 0.31670 to 0.31614, saving model to ./first_cnn_autoencoder.hdf5\n",
      "Epoch 41/100\n",
      "577/577 [==============================] - 1s 2ms/step - loss: 0.3163 - acc: 0.3684 - val_loss: 0.3117 - val_acc: 0.3787\n",
      "\n",
      "Epoch 00041: loss did not improve from 0.31614\n",
      "Epoch 42/100\n",
      "577/577 [==============================] - 1s 2ms/step - loss: 0.3164 - acc: 0.3684 - val_loss: 0.3123 - val_acc: 0.3787\n",
      "\n",
      "Epoch 00042: loss did not improve from 0.31614\n",
      "Epoch 43/100\n",
      "577/577 [==============================] - 1s 2ms/step - loss: 0.3164 - acc: 0.3684 - val_loss: 0.3129 - val_acc: 0.3787\n",
      "\n",
      "Epoch 00043: loss did not improve from 0.31614\n",
      "Epoch 44/100\n",
      "577/577 [==============================] - 1s 2ms/step - loss: 0.3157 - acc: 0.3684 - val_loss: 0.3112 - val_acc: 0.3787\n",
      "\n",
      "Epoch 00044: loss improved from 0.31614 to 0.31570, saving model to ./first_cnn_autoencoder.hdf5\n",
      "Epoch 45/100\n",
      "577/577 [==============================] - 1s 2ms/step - loss: 0.3161 - acc: 0.3684 - val_loss: 0.3134 - val_acc: 0.3787\n",
      "\n",
      "Epoch 00045: loss did not improve from 0.31570\n",
      "Epoch 46/100\n",
      "577/577 [==============================] - 1s 2ms/step - loss: 0.3158 - acc: 0.3684 - val_loss: 0.3122 - val_acc: 0.3787\n",
      "\n",
      "Epoch 00046: loss did not improve from 0.31570\n",
      "Epoch 47/100\n",
      "577/577 [==============================] - 1s 2ms/step - loss: 0.3162 - acc: 0.3684 - val_loss: 0.3105 - val_acc: 0.3787\n",
      "\n",
      "Epoch 00047: loss did not improve from 0.31570\n",
      "Epoch 48/100\n",
      "577/577 [==============================] - 1s 2ms/step - loss: 0.3156 - acc: 0.3684 - val_loss: 0.3104 - val_acc: 0.3787\n",
      "\n",
      "Epoch 00048: loss improved from 0.31570 to 0.31558, saving model to ./first_cnn_autoencoder.hdf5\n",
      "Epoch 49/100\n",
      "577/577 [==============================] - 1s 2ms/step - loss: 0.3158 - acc: 0.3684 - val_loss: 0.3108 - val_acc: 0.3787\n",
      "\n",
      "Epoch 00049: loss did not improve from 0.31558\n",
      "Epoch 50/100\n",
      "577/577 [==============================] - 1s 2ms/step - loss: 0.3154 - acc: 0.3684 - val_loss: 0.3103 - val_acc: 0.3787\n",
      "\n",
      "Epoch 00050: loss improved from 0.31558 to 0.31543, saving model to ./first_cnn_autoencoder.hdf5\n",
      "Epoch 51/100\n",
      "577/577 [==============================] - 1s 2ms/step - loss: 0.3152 - acc: 0.3684 - val_loss: 0.3103 - val_acc: 0.3787\n",
      "\n",
      "Epoch 00051: loss improved from 0.31543 to 0.31517, saving model to ./first_cnn_autoencoder.hdf5\n",
      "Epoch 52/100\n",
      "577/577 [==============================] - 1s 2ms/step - loss: 0.3154 - acc: 0.3684 - val_loss: 0.3124 - val_acc: 0.3787\n",
      "\n",
      "Epoch 00052: loss did not improve from 0.31517\n",
      "Epoch 53/100\n",
      "577/577 [==============================] - 1s 2ms/step - loss: 0.3157 - acc: 0.3684 - val_loss: 0.3103 - val_acc: 0.3787\n",
      "\n",
      "Epoch 00053: loss did not improve from 0.31517\n",
      "Epoch 54/100\n",
      "577/577 [==============================] - 1s 2ms/step - loss: 0.3154 - acc: 0.3684 - val_loss: 0.3132 - val_acc: 0.3787\n",
      "\n",
      "Epoch 00054: loss did not improve from 0.31517\n",
      "Epoch 55/100\n",
      "577/577 [==============================] - 1s 2ms/step - loss: 0.3154 - acc: 0.3684 - val_loss: 0.3148 - val_acc: 0.3787\n",
      "\n",
      "Epoch 00055: loss did not improve from 0.31517\n",
      "Epoch 56/100\n",
      "577/577 [==============================] - 1s 2ms/step - loss: 0.3150 - acc: 0.3684 - val_loss: 0.3106 - val_acc: 0.3787\n",
      "\n",
      "Epoch 00056: loss improved from 0.31517 to 0.31503, saving model to ./first_cnn_autoencoder.hdf5\n",
      "Epoch 57/100\n",
      "577/577 [==============================] - 1s 2ms/step - loss: 0.3149 - acc: 0.3684 - val_loss: 0.3110 - val_acc: 0.3787\n",
      "\n",
      "Epoch 00057: loss improved from 0.31503 to 0.31493, saving model to ./first_cnn_autoencoder.hdf5\n",
      "Epoch 58/100\n",
      "577/577 [==============================] - 1s 2ms/step - loss: 0.3149 - acc: 0.3684 - val_loss: 0.3099 - val_acc: 0.3787\n",
      "\n",
      "Epoch 00058: loss improved from 0.31493 to 0.31488, saving model to ./first_cnn_autoencoder.hdf5\n",
      "Epoch 59/100\n",
      "577/577 [==============================] - 1s 2ms/step - loss: 0.3148 - acc: 0.3684 - val_loss: 0.3112 - val_acc: 0.3787\n",
      "\n",
      "Epoch 00059: loss improved from 0.31488 to 0.31482, saving model to ./first_cnn_autoencoder.hdf5\n",
      "Epoch 60/100\n",
      "577/577 [==============================] - 1s 2ms/step - loss: 0.3148 - acc: 0.3684 - val_loss: 0.3142 - val_acc: 0.3787\n",
      "\n",
      "Epoch 00060: loss improved from 0.31482 to 0.31482, saving model to ./first_cnn_autoencoder.hdf5\n",
      "Epoch 61/100\n",
      "577/577 [==============================] - 1s 2ms/step - loss: 0.3148 - acc: 0.3684 - val_loss: 0.3098 - val_acc: 0.3787\n",
      "\n",
      "Epoch 00061: loss did not improve from 0.31482\n",
      "Epoch 62/100\n",
      "577/577 [==============================] - 1s 2ms/step - loss: 0.3147 - acc: 0.3684 - val_loss: 0.3099 - val_acc: 0.3787\n",
      "\n",
      "Epoch 00062: loss improved from 0.31482 to 0.31467, saving model to ./first_cnn_autoencoder.hdf5\n",
      "Epoch 63/100\n",
      "577/577 [==============================] - 1s 2ms/step - loss: 0.3145 - acc: 0.3684 - val_loss: 0.3105 - val_acc: 0.3788\n",
      "\n",
      "Epoch 00063: loss improved from 0.31467 to 0.31452, saving model to ./first_cnn_autoencoder.hdf5\n",
      "Epoch 64/100\n",
      "577/577 [==============================] - 1s 2ms/step - loss: 0.3146 - acc: 0.3684 - val_loss: 0.3098 - val_acc: 0.3787\n",
      "\n",
      "Epoch 00064: loss did not improve from 0.31452\n",
      "Epoch 65/100\n",
      "577/577 [==============================] - 1s 2ms/step - loss: 0.3145 - acc: 0.3684 - val_loss: 0.3095 - val_acc: 0.3787\n",
      "\n",
      "Epoch 00065: loss improved from 0.31452 to 0.31450, saving model to ./first_cnn_autoencoder.hdf5\n",
      "Epoch 66/100\n",
      "577/577 [==============================] - 1s 2ms/step - loss: 0.3142 - acc: 0.3684 - val_loss: 0.3126 - val_acc: 0.3787\n",
      "\n",
      "Epoch 00066: loss improved from 0.31450 to 0.31421, saving model to ./first_cnn_autoencoder.hdf5\n",
      "Epoch 67/100\n",
      "577/577 [==============================] - 1s 2ms/step - loss: 0.3144 - acc: 0.3684 - val_loss: 0.3130 - val_acc: 0.3788\n",
      "\n",
      "Epoch 00067: loss did not improve from 0.31421\n",
      "Epoch 68/100\n",
      "577/577 [==============================] - 1s 2ms/step - loss: 0.3147 - acc: 0.3684 - val_loss: 0.3116 - val_acc: 0.3788\n",
      "\n",
      "Epoch 00068: loss did not improve from 0.31421\n",
      "Epoch 69/100\n",
      "577/577 [==============================] - 1s 2ms/step - loss: 0.3141 - acc: 0.3684 - val_loss: 0.3093 - val_acc: 0.3788\n",
      "\n",
      "Epoch 00069: loss improved from 0.31421 to 0.31412, saving model to ./first_cnn_autoencoder.hdf5\n",
      "Epoch 70/100\n",
      "577/577 [==============================] - 1s 2ms/step - loss: 0.3140 - acc: 0.3684 - val_loss: 0.3094 - val_acc: 0.3788\n",
      "\n",
      "Epoch 00070: loss improved from 0.31412 to 0.31403, saving model to ./first_cnn_autoencoder.hdf5\n",
      "Epoch 71/100\n",
      "577/577 [==============================] - 1s 2ms/step - loss: 0.3140 - acc: 0.3684 - val_loss: 0.3113 - val_acc: 0.3788\n",
      "\n",
      "Epoch 00071: loss did not improve from 0.31403\n",
      "Epoch 72/100\n",
      "577/577 [==============================] - 1s 2ms/step - loss: 0.3139 - acc: 0.3684 - val_loss: 0.3101 - val_acc: 0.3787\n",
      "\n",
      "Epoch 00072: loss improved from 0.31403 to 0.31394, saving model to ./first_cnn_autoencoder.hdf5\n",
      "Epoch 73/100\n",
      "577/577 [==============================] - 1s 2ms/step - loss: 0.3141 - acc: 0.3684 - val_loss: 0.3093 - val_acc: 0.3788\n",
      "\n",
      "Epoch 00073: loss did not improve from 0.31394\n",
      "Epoch 74/100\n",
      "577/577 [==============================] - 1s 2ms/step - loss: 0.3144 - acc: 0.3684 - val_loss: 0.3092 - val_acc: 0.3788\n",
      "\n",
      "Epoch 00074: loss did not improve from 0.31394\n",
      "Epoch 75/100\n",
      "577/577 [==============================] - 1s 2ms/step - loss: 0.3140 - acc: 0.3684 - val_loss: 0.3107 - val_acc: 0.3788\n",
      "\n",
      "Epoch 00075: loss did not improve from 0.31394\n",
      "Epoch 76/100\n",
      "577/577 [==============================] - 1s 2ms/step - loss: 0.3139 - acc: 0.3684 - val_loss: 0.3091 - val_acc: 0.3788\n",
      "\n",
      "Epoch 00076: loss improved from 0.31394 to 0.31386, saving model to ./first_cnn_autoencoder.hdf5\n",
      "Epoch 77/100\n",
      "577/577 [==============================] - 1s 2ms/step - loss: 0.3137 - acc: 0.3684 - val_loss: 0.3093 - val_acc: 0.3788\n",
      "\n",
      "Epoch 00077: loss improved from 0.31386 to 0.31370, saving model to ./first_cnn_autoencoder.hdf5\n",
      "Epoch 78/100\n",
      "577/577 [==============================] - 1s 2ms/step - loss: 0.3143 - acc: 0.3684 - val_loss: 0.3100 - val_acc: 0.3788\n",
      "\n",
      "Epoch 00078: loss did not improve from 0.31370\n",
      "Epoch 79/100\n",
      "577/577 [==============================] - 1s 2ms/step - loss: 0.3139 - acc: 0.3684 - val_loss: 0.3090 - val_acc: 0.3788\n",
      "\n",
      "Epoch 00079: loss did not improve from 0.31370\n",
      "Epoch 80/100\n",
      "577/577 [==============================] - 1s 2ms/step - loss: 0.3137 - acc: 0.3684 - val_loss: 0.3092 - val_acc: 0.3788\n",
      "\n",
      "Epoch 00080: loss improved from 0.31370 to 0.31369, saving model to ./first_cnn_autoencoder.hdf5\n",
      "Epoch 81/100\n",
      "577/577 [==============================] - 1s 2ms/step - loss: 0.3140 - acc: 0.3684 - val_loss: 0.3092 - val_acc: 0.3788\n",
      "\n",
      "Epoch 00081: loss did not improve from 0.31369\n",
      "Epoch 82/100\n",
      "577/577 [==============================] - 1s 2ms/step - loss: 0.3140 - acc: 0.3684 - val_loss: 0.3090 - val_acc: 0.3788\n",
      "\n",
      "Epoch 00082: loss did not improve from 0.31369\n",
      "Epoch 83/100\n",
      "577/577 [==============================] - 1s 2ms/step - loss: 0.3136 - acc: 0.3684 - val_loss: 0.3106 - val_acc: 0.3788\n",
      "\n",
      "Epoch 00083: loss improved from 0.31369 to 0.31357, saving model to ./first_cnn_autoencoder.hdf5\n",
      "Epoch 84/100\n",
      "577/577 [==============================] - 1s 2ms/step - loss: 0.3137 - acc: 0.3684 - val_loss: 0.3091 - val_acc: 0.3788\n",
      "\n",
      "Epoch 00084: loss did not improve from 0.31357\n",
      "Epoch 85/100\n",
      "577/577 [==============================] - 1s 2ms/step - loss: 0.3137 - acc: 0.3684 - val_loss: 0.3092 - val_acc: 0.3788\n",
      "\n",
      "Epoch 00085: loss did not improve from 0.31357\n",
      "Epoch 86/100\n",
      "577/577 [==============================] - 1s 2ms/step - loss: 0.3134 - acc: 0.3684 - val_loss: 0.3113 - val_acc: 0.3788\n",
      "\n",
      "Epoch 00086: loss improved from 0.31357 to 0.31343, saving model to ./first_cnn_autoencoder.hdf5\n",
      "Epoch 87/100\n",
      "577/577 [==============================] - 1s 2ms/step - loss: 0.3136 - acc: 0.3684 - val_loss: 0.3099 - val_acc: 0.3788\n",
      "\n",
      "Epoch 00087: loss did not improve from 0.31343\n",
      "Epoch 88/100\n",
      "577/577 [==============================] - 1s 2ms/step - loss: 0.3140 - acc: 0.3684 - val_loss: 0.3090 - val_acc: 0.3788\n",
      "\n",
      "Epoch 00088: loss did not improve from 0.31343\n",
      "Epoch 89/100\n",
      "577/577 [==============================] - 1s 2ms/step - loss: 0.3138 - acc: 0.3684 - val_loss: 0.3090 - val_acc: 0.3788\n",
      "\n",
      "Epoch 00089: loss did not improve from 0.31343\n",
      "Epoch 90/100\n",
      "577/577 [==============================] - 1s 2ms/step - loss: 0.3134 - acc: 0.3684 - val_loss: 0.3089 - val_acc: 0.3788\n",
      "\n",
      "Epoch 00090: loss did not improve from 0.31343\n",
      "Epoch 91/100\n",
      "577/577 [==============================] - 1s 2ms/step - loss: 0.3135 - acc: 0.3684 - val_loss: 0.3088 - val_acc: 0.3788\n",
      "\n",
      "Epoch 00091: loss did not improve from 0.31343\n",
      "Epoch 92/100\n",
      "577/577 [==============================] - 1s 2ms/step - loss: 0.3135 - acc: 0.3684 - val_loss: 0.3089 - val_acc: 0.3788\n",
      "\n",
      "Epoch 00092: loss did not improve from 0.31343\n",
      "Epoch 93/100\n",
      "577/577 [==============================] - 1s 2ms/step - loss: 0.3134 - acc: 0.3684 - val_loss: 0.3088 - val_acc: 0.3788\n",
      "\n",
      "Epoch 00093: loss did not improve from 0.31343\n",
      "Epoch 94/100\n",
      "577/577 [==============================] - 1s 2ms/step - loss: 0.3134 - acc: 0.3684 - val_loss: 0.3089 - val_acc: 0.3788\n",
      "\n",
      "Epoch 00094: loss improved from 0.31343 to 0.31336, saving model to ./first_cnn_autoencoder.hdf5\n",
      "Epoch 95/100\n",
      "577/577 [==============================] - 1s 2ms/step - loss: 0.3135 - acc: 0.3684 - val_loss: 0.3093 - val_acc: 0.3788\n",
      "\n",
      "Epoch 00095: loss did not improve from 0.31336\n",
      "Epoch 96/100\n",
      "577/577 [==============================] - 1s 2ms/step - loss: 0.3131 - acc: 0.3684 - val_loss: 0.3089 - val_acc: 0.3788\n",
      "\n",
      "Epoch 00096: loss improved from 0.31336 to 0.31306, saving model to ./first_cnn_autoencoder.hdf5\n",
      "Epoch 97/100\n",
      "577/577 [==============================] - 1s 2ms/step - loss: 0.3133 - acc: 0.3684 - val_loss: 0.3103 - val_acc: 0.3788\n",
      "\n",
      "Epoch 00097: loss did not improve from 0.31306\n",
      "Epoch 98/100\n",
      "577/577 [==============================] - 1s 2ms/step - loss: 0.3139 - acc: 0.3684 - val_loss: 0.3088 - val_acc: 0.3788\n",
      "\n",
      "Epoch 00098: loss did not improve from 0.31306\n",
      "Epoch 99/100\n",
      "577/577 [==============================] - 1s 2ms/step - loss: 0.3132 - acc: 0.3684 - val_loss: 0.3087 - val_acc: 0.3788\n",
      "\n",
      "Epoch 00099: loss did not improve from 0.31306\n",
      "Epoch 100/100\n",
      "577/577 [==============================] - 1s 2ms/step - loss: 0.3132 - acc: 0.3684 - val_loss: 0.3109 - val_acc: 0.3788\n",
      "\n",
      "Epoch 00100: loss did not improve from 0.31306\n"
     ]
    },
    {
     "data": {
      "text/plain": [
       "<keras.callbacks.History at 0x7f85c14c2cc0>"
      ]
     },
     "execution_count": 200,
     "metadata": {
      "tags": []
     },
     "output_type": "execute_result"
    }
   ],
   "source": [
    "autoencoder_gauss_median.fit(x_train_noisy_med, x_train_gt,\n",
    "                epochs=100,\n",
    "                batch_size=10,\n",
    "                shuffle=True,\n",
    "                validation_data=(x_valid_noisy_med, x_valid_gt),\n",
    "                callbacks=[TensorBoard(log_dir='/tmp/autoencoder', histogram_freq=0, write_graph=True),model_checkpoint])"
   ]
  },
  {
   "cell_type": "code",
   "execution_count": 0,
   "metadata": {
    "colab": {
     "base_uri": "https://localhost:8080/",
     "height": 51
    },
    "colab_type": "code",
    "collapsed": false,
    "id": "mWL7RJc2pMid",
    "outputId": "b30b0057-7abf-4457-ce54-885de9ec4ef4"
   },
   "outputs": [
    {
     "name": "stdout",
     "output_type": "stream",
     "text": [
      "120/120 [==============================] - 0s 3ms/step\n"
     ]
    },
    {
     "data": {
      "text/plain": [
       "(120, 64, 64, 1)"
      ]
     },
     "execution_count": 201,
     "metadata": {
      "tags": []
     },
     "output_type": "execute_result"
    }
   ],
   "source": [
    "out_autoenc_gauss_median = autoencoder_gauss_median.predict(test_images_noisy, verbose=1)\n",
    "out_autoenc_gauss_median.shape"
   ]
  },
  {
   "cell_type": "code",
   "execution_count": 0,
   "metadata": {
    "colab": {
     "base_uri": "https://localhost:8080/",
     "height": 34
    },
    "colab_type": "code",
    "collapsed": false,
    "id": "8OhYEj-KquvO",
    "outputId": "15da0a3a-1d48-434f-ab29-0c9b1620d002"
   },
   "outputs": [
    {
     "name": "stdout",
     "output_type": "stream",
     "text": [
      "psnr of CNN_DAE: 26.052786282829878\n"
     ]
    }
   ],
   "source": [
    "print(\"psnr of CNN_DAE:\", get_psnr_result(out_autoenc_gauss_median, test_images_gt))"
   ]
  },
  {
   "cell_type": "code",
   "execution_count": 0,
   "metadata": {
    "colab": {
     "base_uri": "https://localhost:8080/",
     "height": 34
    },
    "colab_type": "code",
    "collapsed": false,
    "id": "wmDISh9Mqu56",
    "outputId": "c9d2d485-44c7-43c3-bdb4-884b80f029ff"
   },
   "outputs": [
    {
     "name": "stdout",
     "output_type": "stream",
     "text": [
      "ssim of CNN_DAE: 0.8423698837308919\n"
     ]
    }
   ],
   "source": [
    "print(\"ssim of CNN_DAE:\", get_ssim_result(test_images_gt, out_autoenc_gauss_median))"
   ]
  },
  {
   "cell_type": "markdown",
   "metadata": {
    "colab_type": "text",
    "id": "TWMf2HshRlDi"
   },
   "source": [
    "# **4.Build model for Poisson noise**"
   ]
  },
  {
   "cell_type": "code",
   "execution_count": 0,
   "metadata": {
    "colab": {},
    "colab_type": "code",
    "collapsed": true,
    "id": "45DpjVM4MAQF"
   },
   "outputs": [],
   "source": [
    "images = np.reshape(dataset, (dataset.shape[0],64,64,1))"
   ]
  },
  {
   "cell_type": "code",
   "execution_count": 0,
   "metadata": {
    "colab": {},
    "colab_type": "code",
    "collapsed": true,
    "id": "LurzqSuQRqoV"
   },
   "outputs": [],
   "source": [
    "from random import shuffle\n",
    "import math\n",
    "import skimage\n",
    "from sklearn.metrics import mean_squared_error\n",
    "from skimage import data, img_as_float\n",
    "from skimage.restoration import denoise_nl_means\n",
    "from skimage.measure import compare_ssim as ssim\n",
    "\n",
    "#Shuffling and adding noise to the dataset\n",
    "shuffle(images)\n",
    "#Getting the noisy image set\n",
    "noisy_set = add_noise_poisson(images)\n",
    "ground_truth,noisy_images = pair_shuffle(images,noisy_set)"
   ]
  },
  {
   "cell_type": "code",
   "execution_count": 0,
   "metadata": {
    "colab": {},
    "colab_type": "code",
    "collapsed": true,
    "id": "ZTFmAhedxqS0"
   },
   "outputs": [],
   "source": [
    "ground_truth = ground_truth.astype('float32')\n",
    "noisy_images = noisy_images.astype('float32')"
   ]
  },
  {
   "cell_type": "code",
   "execution_count": 0,
   "metadata": {
    "colab": {
     "base_uri": "https://localhost:8080/",
     "height": 51
    },
    "colab_type": "code",
    "collapsed": false,
    "id": "J1fVwYUPSRKy",
    "outputId": "dbc69fab-08ef-4671-80dd-41fde7259e5b"
   },
   "outputs": [
    {
     "name": "stdout",
     "output_type": "stream",
     "text": [
      "(577, 64, 64, 1)\n",
      "(145, 64, 64, 1)\n"
     ]
    }
   ],
   "source": [
    "#Split into training and cross validation\n",
    "nb_train = 722\n",
    "train_size = int(nb_train*0.8)\n",
    "x_train_gt = ground_truth[0:train_size]/255.\n",
    "x_train_noisy = noisy_images[0:train_size]/255.\n",
    "x_valid_gt = ground_truth[train_size:nb_train]/255.\n",
    "x_valid_noisy = noisy_images[train_size:nb_train]/255.\n",
    "print(x_train_noisy.shape)\n",
    "print(x_valid_noisy.shape)"
   ]
  },
  {
   "cell_type": "code",
   "execution_count": 0,
   "metadata": {
    "colab": {
     "base_uri": "https://localhost:8080/",
     "height": 612
    },
    "colab_type": "code",
    "collapsed": false,
    "id": "w037OW6zSRVM",
    "outputId": "802ec6a5-9959-44fc-9495-c277cbc78169"
   },
   "outputs": [
    {
     "name": "stdout",
     "output_type": "stream",
     "text": [
      "_________________________________________________________________\n",
      "Layer (type)                 Output Shape              Param #   \n",
      "=================================================================\n",
      "inputs (InputLayer)          (None, 64, 64, 1)         0         \n",
      "_________________________________________________________________\n",
      "en_conv1 (Conv2D)            (None, 64, 64, 64)        640       \n",
      "_________________________________________________________________\n",
      "leaky_re_lu_13 (LeakyReLU)   (None, 64, 64, 64)        0         \n",
      "_________________________________________________________________\n",
      "en_pool1 (MaxPooling2D)      (None, 32, 32, 64)        0         \n",
      "_________________________________________________________________\n",
      "en_conv2 (Conv2D)            (None, 32, 32, 64)        36928     \n",
      "_________________________________________________________________\n",
      "leaky_re_lu_14 (LeakyReLU)   (None, 32, 32, 64)        0         \n",
      "_________________________________________________________________\n",
      "en_pool2 (MaxPooling2D)      (None, 16, 16, 64)        0         \n",
      "_________________________________________________________________\n",
      "de_conv1 (Conv2D)            (None, 16, 16, 64)        36928     \n",
      "_________________________________________________________________\n",
      "leaky_re_lu_15 (LeakyReLU)   (None, 16, 16, 64)        0         \n",
      "_________________________________________________________________\n",
      "upsampling1 (UpSampling2D)   (None, 32, 32, 64)        0         \n",
      "_________________________________________________________________\n",
      "de_conv2 (Conv2D)            (None, 32, 32, 64)        36928     \n",
      "_________________________________________________________________\n",
      "leaky_re_lu_16 (LeakyReLU)   (None, 32, 32, 64)        0         \n",
      "_________________________________________________________________\n",
      "upsampling2 (UpSampling2D)   (None, 64, 64, 64)        0         \n",
      "_________________________________________________________________\n",
      "de_conv3 (Conv2D)            (None, 64, 64, 1)         577       \n",
      "=================================================================\n",
      "Total params: 112,001\n",
      "Trainable params: 112,001\n",
      "Non-trainable params: 0\n",
      "_________________________________________________________________\n"
     ]
    }
   ],
   "source": [
    "input_shape=x_train_noisy[0].shape\n",
    "autoenc_poisson = DAE_CNN(input_shape)"
   ]
  },
  {
   "cell_type": "code",
   "execution_count": 0,
   "metadata": {
    "colab": {
     "base_uri": "https://localhost:8080/",
     "height": 6834
    },
    "colab_type": "code",
    "collapsed": false,
    "id": "0iQA_QsOSRfr",
    "outputId": "1256bd4c-d27c-45ab-8631-59e3b816ad8b"
   },
   "outputs": [
    {
     "name": "stdout",
     "output_type": "stream",
     "text": [
      "Train on 577 samples, validate on 145 samples\n",
      "Epoch 1/100\n",
      "577/577 [==============================] - 2s 4ms/step - loss: 0.3593 - acc: 0.4665 - val_loss: 0.2909 - val_acc: 0.4742\n",
      "\n",
      "Epoch 00001: loss did not improve from 0.31132\n",
      "Epoch 2/100\n",
      "577/577 [==============================] - 2s 3ms/step - loss: 0.2838 - acc: 0.4757 - val_loss: 0.2836 - val_acc: 0.4740\n",
      "\n",
      "Epoch 00002: loss improved from 0.31132 to 0.28384, saving model to ./first_cnn_autoencoder.hdf5\n",
      "Epoch 3/100\n",
      "577/577 [==============================] - 2s 3ms/step - loss: 0.2778 - acc: 0.4767 - val_loss: 0.2760 - val_acc: 0.4758\n",
      "\n",
      "Epoch 00003: loss improved from 0.28384 to 0.27782, saving model to ./first_cnn_autoencoder.hdf5\n",
      "Epoch 4/100\n",
      "577/577 [==============================] - 2s 3ms/step - loss: 0.2738 - acc: 0.4768 - val_loss: 0.2732 - val_acc: 0.4758\n",
      "\n",
      "Epoch 00004: loss improved from 0.27782 to 0.27375, saving model to ./first_cnn_autoencoder.hdf5\n",
      "Epoch 5/100\n",
      "577/577 [==============================] - 2s 3ms/step - loss: 0.2701 - acc: 0.4768 - val_loss: 0.2696 - val_acc: 0.4757\n",
      "\n",
      "Epoch 00005: loss improved from 0.27375 to 0.27006, saving model to ./first_cnn_autoencoder.hdf5\n",
      "Epoch 6/100\n",
      "577/577 [==============================] - 2s 3ms/step - loss: 0.2685 - acc: 0.4768 - val_loss: 0.2674 - val_acc: 0.4757\n",
      "\n",
      "Epoch 00006: loss improved from 0.27006 to 0.26853, saving model to ./first_cnn_autoencoder.hdf5\n",
      "Epoch 7/100\n",
      "577/577 [==============================] - 2s 3ms/step - loss: 0.2671 - acc: 0.4768 - val_loss: 0.2765 - val_acc: 0.4756\n",
      "\n",
      "Epoch 00007: loss improved from 0.26853 to 0.26713, saving model to ./first_cnn_autoencoder.hdf5\n",
      "Epoch 8/100\n",
      "577/577 [==============================] - 2s 3ms/step - loss: 0.2659 - acc: 0.4768 - val_loss: 0.2666 - val_acc: 0.4758\n",
      "\n",
      "Epoch 00008: loss improved from 0.26713 to 0.26594, saving model to ./first_cnn_autoencoder.hdf5\n",
      "Epoch 9/100\n",
      "577/577 [==============================] - 2s 3ms/step - loss: 0.2650 - acc: 0.4768 - val_loss: 0.2645 - val_acc: 0.4758\n",
      "\n",
      "Epoch 00009: loss improved from 0.26594 to 0.26501, saving model to ./first_cnn_autoencoder.hdf5\n",
      "Epoch 10/100\n",
      "577/577 [==============================] - 2s 3ms/step - loss: 0.2647 - acc: 0.4768 - val_loss: 0.2700 - val_acc: 0.4757\n",
      "\n",
      "Epoch 00010: loss improved from 0.26501 to 0.26473, saving model to ./first_cnn_autoencoder.hdf5\n",
      "Epoch 11/100\n",
      "577/577 [==============================] - 2s 3ms/step - loss: 0.2641 - acc: 0.4768 - val_loss: 0.2652 - val_acc: 0.4757\n",
      "\n",
      "Epoch 00011: loss improved from 0.26473 to 0.26406, saving model to ./first_cnn_autoencoder.hdf5\n",
      "Epoch 12/100\n",
      "577/577 [==============================] - 2s 3ms/step - loss: 0.2636 - acc: 0.4768 - val_loss: 0.2650 - val_acc: 0.4758\n",
      "\n",
      "Epoch 00012: loss improved from 0.26406 to 0.26357, saving model to ./first_cnn_autoencoder.hdf5\n",
      "Epoch 13/100\n",
      "577/577 [==============================] - 1s 2ms/step - loss: 0.2631 - acc: 0.4768 - val_loss: 0.2653 - val_acc: 0.4757\n",
      "\n",
      "Epoch 00013: loss improved from 0.26357 to 0.26312, saving model to ./first_cnn_autoencoder.hdf5\n",
      "Epoch 14/100\n",
      "577/577 [==============================] - 1s 2ms/step - loss: 0.2631 - acc: 0.4768 - val_loss: 0.2635 - val_acc: 0.4758\n",
      "\n",
      "Epoch 00014: loss did not improve from 0.26312\n",
      "Epoch 15/100\n",
      "577/577 [==============================] - 1s 2ms/step - loss: 0.2631 - acc: 0.4768 - val_loss: 0.2628 - val_acc: 0.4758\n",
      "\n",
      "Epoch 00015: loss improved from 0.26312 to 0.26309, saving model to ./first_cnn_autoencoder.hdf5\n",
      "Epoch 16/100\n",
      "577/577 [==============================] - 1s 2ms/step - loss: 0.2619 - acc: 0.4769 - val_loss: 0.2642 - val_acc: 0.4758\n",
      "\n",
      "Epoch 00016: loss improved from 0.26309 to 0.26191, saving model to ./first_cnn_autoencoder.hdf5\n",
      "Epoch 17/100\n",
      "577/577 [==============================] - 1s 2ms/step - loss: 0.2628 - acc: 0.4768 - val_loss: 0.2625 - val_acc: 0.4758\n",
      "\n",
      "Epoch 00017: loss did not improve from 0.26191\n",
      "Epoch 18/100\n",
      "577/577 [==============================] - 1s 2ms/step - loss: 0.2620 - acc: 0.4769 - val_loss: 0.2624 - val_acc: 0.4758\n",
      "\n",
      "Epoch 00018: loss did not improve from 0.26191\n",
      "Epoch 19/100\n",
      "577/577 [==============================] - 1s 2ms/step - loss: 0.2613 - acc: 0.4769 - val_loss: 0.2632 - val_acc: 0.4758\n",
      "\n",
      "Epoch 00019: loss improved from 0.26191 to 0.26133, saving model to ./first_cnn_autoencoder.hdf5\n",
      "Epoch 20/100\n",
      "577/577 [==============================] - 1s 2ms/step - loss: 0.2614 - acc: 0.4769 - val_loss: 0.2632 - val_acc: 0.4758\n",
      "\n",
      "Epoch 00020: loss did not improve from 0.26133\n",
      "Epoch 21/100\n",
      "577/577 [==============================] - 1s 2ms/step - loss: 0.2617 - acc: 0.4769 - val_loss: 0.2645 - val_acc: 0.4758\n",
      "\n",
      "Epoch 00021: loss did not improve from 0.26133\n",
      "Epoch 22/100\n",
      "577/577 [==============================] - 1s 2ms/step - loss: 0.2614 - acc: 0.4769 - val_loss: 0.2619 - val_acc: 0.4758\n",
      "\n",
      "Epoch 00022: loss did not improve from 0.26133\n",
      "Epoch 23/100\n",
      "577/577 [==============================] - 1s 2ms/step - loss: 0.2615 - acc: 0.4769 - val_loss: 0.2618 - val_acc: 0.4758\n",
      "\n",
      "Epoch 00023: loss did not improve from 0.26133\n",
      "Epoch 24/100\n",
      "577/577 [==============================] - 1s 2ms/step - loss: 0.2608 - acc: 0.4769 - val_loss: 0.2651 - val_acc: 0.4758\n",
      "\n",
      "Epoch 00024: loss improved from 0.26133 to 0.26077, saving model to ./first_cnn_autoencoder.hdf5\n",
      "Epoch 25/100\n",
      "577/577 [==============================] - 1s 2ms/step - loss: 0.2608 - acc: 0.4769 - val_loss: 0.2625 - val_acc: 0.4758\n",
      "\n",
      "Epoch 00025: loss did not improve from 0.26077\n",
      "Epoch 26/100\n",
      "577/577 [==============================] - 1s 2ms/step - loss: 0.2606 - acc: 0.4769 - val_loss: 0.2647 - val_acc: 0.4758\n",
      "\n",
      "Epoch 00026: loss improved from 0.26077 to 0.26055, saving model to ./first_cnn_autoencoder.hdf5\n",
      "Epoch 27/100\n",
      "577/577 [==============================] - 1s 2ms/step - loss: 0.2605 - acc: 0.4769 - val_loss: 0.2624 - val_acc: 0.4758\n",
      "\n",
      "Epoch 00027: loss improved from 0.26055 to 0.26051, saving model to ./first_cnn_autoencoder.hdf5\n",
      "Epoch 28/100\n",
      "577/577 [==============================] - 1s 2ms/step - loss: 0.2605 - acc: 0.4769 - val_loss: 0.2614 - val_acc: 0.4758\n",
      "\n",
      "Epoch 00028: loss did not improve from 0.26051\n",
      "Epoch 29/100\n",
      "577/577 [==============================] - 1s 2ms/step - loss: 0.2608 - acc: 0.4769 - val_loss: 0.2682 - val_acc: 0.4757\n",
      "\n",
      "Epoch 00029: loss did not improve from 0.26051\n",
      "Epoch 30/100\n",
      "577/577 [==============================] - 1s 2ms/step - loss: 0.2601 - acc: 0.4769 - val_loss: 0.2615 - val_acc: 0.4758\n",
      "\n",
      "Epoch 00030: loss improved from 0.26051 to 0.26014, saving model to ./first_cnn_autoencoder.hdf5\n",
      "Epoch 31/100\n",
      "577/577 [==============================] - 1s 2ms/step - loss: 0.2600 - acc: 0.4769 - val_loss: 0.2628 - val_acc: 0.4758\n",
      "\n",
      "Epoch 00031: loss improved from 0.26014 to 0.25996, saving model to ./first_cnn_autoencoder.hdf5\n",
      "Epoch 32/100\n",
      "577/577 [==============================] - 1s 2ms/step - loss: 0.2599 - acc: 0.4769 - val_loss: 0.2637 - val_acc: 0.4758\n",
      "\n",
      "Epoch 00032: loss improved from 0.25996 to 0.25990, saving model to ./first_cnn_autoencoder.hdf5\n",
      "Epoch 33/100\n",
      "577/577 [==============================] - 1s 2ms/step - loss: 0.2600 - acc: 0.4769 - val_loss: 0.2619 - val_acc: 0.4758\n",
      "\n",
      "Epoch 00033: loss did not improve from 0.25990\n",
      "Epoch 34/100\n",
      "577/577 [==============================] - 1s 2ms/step - loss: 0.2601 - acc: 0.4769 - val_loss: 0.2653 - val_acc: 0.4758\n",
      "\n",
      "Epoch 00034: loss did not improve from 0.25990\n",
      "Epoch 35/100\n",
      "577/577 [==============================] - 1s 2ms/step - loss: 0.2596 - acc: 0.4769 - val_loss: 0.2611 - val_acc: 0.4758\n",
      "\n",
      "Epoch 00035: loss improved from 0.25990 to 0.25964, saving model to ./first_cnn_autoencoder.hdf5\n",
      "Epoch 36/100\n",
      "577/577 [==============================] - 1s 2ms/step - loss: 0.2600 - acc: 0.4769 - val_loss: 0.2610 - val_acc: 0.4758\n",
      "\n",
      "Epoch 00036: loss did not improve from 0.25964\n",
      "Epoch 37/100\n",
      "577/577 [==============================] - 1s 2ms/step - loss: 0.2598 - acc: 0.4769 - val_loss: 0.2617 - val_acc: 0.4758\n",
      "\n",
      "Epoch 00037: loss did not improve from 0.25964\n",
      "Epoch 38/100\n",
      "577/577 [==============================] - 1s 2ms/step - loss: 0.2594 - acc: 0.4769 - val_loss: 0.2615 - val_acc: 0.4758\n",
      "\n",
      "Epoch 00038: loss improved from 0.25964 to 0.25939, saving model to ./first_cnn_autoencoder.hdf5\n",
      "Epoch 39/100\n",
      "577/577 [==============================] - 1s 2ms/step - loss: 0.2595 - acc: 0.4769 - val_loss: 0.2622 - val_acc: 0.4758\n",
      "\n",
      "Epoch 00039: loss did not improve from 0.25939\n",
      "Epoch 40/100\n",
      "577/577 [==============================] - 1s 2ms/step - loss: 0.2598 - acc: 0.4769 - val_loss: 0.2608 - val_acc: 0.4758\n",
      "\n",
      "Epoch 00040: loss did not improve from 0.25939\n",
      "Epoch 41/100\n",
      "577/577 [==============================] - 1s 2ms/step - loss: 0.2594 - acc: 0.4769 - val_loss: 0.2632 - val_acc: 0.4758\n",
      "\n",
      "Epoch 00041: loss improved from 0.25939 to 0.25937, saving model to ./first_cnn_autoencoder.hdf5\n",
      "Epoch 42/100\n",
      "577/577 [==============================] - 1s 2ms/step - loss: 0.2593 - acc: 0.4769 - val_loss: 0.2625 - val_acc: 0.4758\n",
      "\n",
      "Epoch 00042: loss improved from 0.25937 to 0.25931, saving model to ./first_cnn_autoencoder.hdf5\n",
      "Epoch 43/100\n",
      "577/577 [==============================] - 1s 2ms/step - loss: 0.2591 - acc: 0.4769 - val_loss: 0.2616 - val_acc: 0.4758\n",
      "\n",
      "Epoch 00043: loss improved from 0.25931 to 0.25914, saving model to ./first_cnn_autoencoder.hdf5\n",
      "Epoch 44/100\n",
      "577/577 [==============================] - 1s 2ms/step - loss: 0.2591 - acc: 0.4769 - val_loss: 0.2616 - val_acc: 0.4758\n",
      "\n",
      "Epoch 00044: loss improved from 0.25914 to 0.25914, saving model to ./first_cnn_autoencoder.hdf5\n",
      "Epoch 45/100\n",
      "577/577 [==============================] - 1s 2ms/step - loss: 0.2594 - acc: 0.4769 - val_loss: 0.2618 - val_acc: 0.4758\n",
      "\n",
      "Epoch 00045: loss did not improve from 0.25914\n",
      "Epoch 46/100\n",
      "577/577 [==============================] - 1s 2ms/step - loss: 0.2594 - acc: 0.4769 - val_loss: 0.2634 - val_acc: 0.4758\n",
      "\n",
      "Epoch 00046: loss did not improve from 0.25914\n",
      "Epoch 47/100\n",
      "577/577 [==============================] - 1s 2ms/step - loss: 0.2591 - acc: 0.4769 - val_loss: 0.2609 - val_acc: 0.4758\n",
      "\n",
      "Epoch 00047: loss improved from 0.25914 to 0.25914, saving model to ./first_cnn_autoencoder.hdf5\n",
      "Epoch 48/100\n",
      "577/577 [==============================] - 1s 2ms/step - loss: 0.2590 - acc: 0.4769 - val_loss: 0.2626 - val_acc: 0.4758\n",
      "\n",
      "Epoch 00048: loss improved from 0.25914 to 0.25898, saving model to ./first_cnn_autoencoder.hdf5\n",
      "Epoch 49/100\n",
      "577/577 [==============================] - 1s 2ms/step - loss: 0.2588 - acc: 0.4769 - val_loss: 0.2609 - val_acc: 0.4758\n",
      "\n",
      "Epoch 00049: loss improved from 0.25898 to 0.25884, saving model to ./first_cnn_autoencoder.hdf5\n",
      "Epoch 50/100\n",
      "577/577 [==============================] - 1s 2ms/step - loss: 0.2588 - acc: 0.4769 - val_loss: 0.2606 - val_acc: 0.4758\n",
      "\n",
      "Epoch 00050: loss improved from 0.25884 to 0.25876, saving model to ./first_cnn_autoencoder.hdf5\n",
      "Epoch 51/100\n",
      "577/577 [==============================] - 1s 2ms/step - loss: 0.2589 - acc: 0.4769 - val_loss: 0.2616 - val_acc: 0.4758\n",
      "\n",
      "Epoch 00051: loss did not improve from 0.25876\n",
      "Epoch 52/100\n",
      "577/577 [==============================] - 1s 2ms/step - loss: 0.2592 - acc: 0.4769 - val_loss: 0.2612 - val_acc: 0.4758\n",
      "\n",
      "Epoch 00052: loss did not improve from 0.25876\n",
      "Epoch 53/100\n",
      "577/577 [==============================] - 1s 2ms/step - loss: 0.2588 - acc: 0.4769 - val_loss: 0.2606 - val_acc: 0.4758\n",
      "\n",
      "Epoch 00053: loss did not improve from 0.25876\n",
      "Epoch 54/100\n",
      "577/577 [==============================] - 1s 2ms/step - loss: 0.2589 - acc: 0.4769 - val_loss: 0.2611 - val_acc: 0.4758\n",
      "\n",
      "Epoch 00054: loss did not improve from 0.25876\n",
      "Epoch 55/100\n",
      "577/577 [==============================] - 1s 2ms/step - loss: 0.2587 - acc: 0.4769 - val_loss: 0.2614 - val_acc: 0.4758\n",
      "\n",
      "Epoch 00055: loss improved from 0.25876 to 0.25868, saving model to ./first_cnn_autoencoder.hdf5\n",
      "Epoch 56/100\n",
      "577/577 [==============================] - 1s 2ms/step - loss: 0.2586 - acc: 0.4769 - val_loss: 0.2618 - val_acc: 0.4758\n",
      "\n",
      "Epoch 00056: loss improved from 0.25868 to 0.25865, saving model to ./first_cnn_autoencoder.hdf5\n",
      "Epoch 57/100\n",
      "577/577 [==============================] - 1s 2ms/step - loss: 0.2587 - acc: 0.4769 - val_loss: 0.2606 - val_acc: 0.4758\n",
      "\n",
      "Epoch 00057: loss did not improve from 0.25865\n",
      "Epoch 58/100\n",
      "577/577 [==============================] - 1s 2ms/step - loss: 0.2587 - acc: 0.4769 - val_loss: 0.2644 - val_acc: 0.4758\n",
      "\n",
      "Epoch 00058: loss did not improve from 0.25865\n",
      "Epoch 59/100\n",
      "577/577 [==============================] - 1s 2ms/step - loss: 0.2587 - acc: 0.4769 - val_loss: 0.2611 - val_acc: 0.4758\n",
      "\n",
      "Epoch 00059: loss did not improve from 0.25865\n",
      "Epoch 60/100\n",
      "577/577 [==============================] - 1s 2ms/step - loss: 0.2586 - acc: 0.4769 - val_loss: 0.2605 - val_acc: 0.4758\n",
      "\n",
      "Epoch 00060: loss improved from 0.25865 to 0.25857, saving model to ./first_cnn_autoencoder.hdf5\n",
      "Epoch 61/100\n",
      "577/577 [==============================] - 1s 2ms/step - loss: 0.2586 - acc: 0.4769 - val_loss: 0.2620 - val_acc: 0.4758\n",
      "\n",
      "Epoch 00061: loss did not improve from 0.25857\n",
      "Epoch 62/100\n",
      "577/577 [==============================] - 1s 2ms/step - loss: 0.2585 - acc: 0.4769 - val_loss: 0.2620 - val_acc: 0.4758\n",
      "\n",
      "Epoch 00062: loss improved from 0.25857 to 0.25854, saving model to ./first_cnn_autoencoder.hdf5\n",
      "Epoch 63/100\n",
      "577/577 [==============================] - 1s 2ms/step - loss: 0.2582 - acc: 0.4769 - val_loss: 0.2606 - val_acc: 0.4758\n",
      "\n",
      "Epoch 00063: loss improved from 0.25854 to 0.25824, saving model to ./first_cnn_autoencoder.hdf5\n",
      "Epoch 64/100\n",
      "577/577 [==============================] - 1s 2ms/step - loss: 0.2589 - acc: 0.4769 - val_loss: 0.2604 - val_acc: 0.4758\n",
      "\n",
      "Epoch 00064: loss did not improve from 0.25824\n",
      "Epoch 65/100\n",
      "577/577 [==============================] - 1s 2ms/step - loss: 0.2584 - acc: 0.4769 - val_loss: 0.2605 - val_acc: 0.4758\n",
      "\n",
      "Epoch 00065: loss did not improve from 0.25824\n",
      "Epoch 66/100\n",
      "577/577 [==============================] - 1s 2ms/step - loss: 0.2583 - acc: 0.4769 - val_loss: 0.2605 - val_acc: 0.4758\n",
      "\n",
      "Epoch 00066: loss did not improve from 0.25824\n",
      "Epoch 67/100\n",
      "577/577 [==============================] - 1s 2ms/step - loss: 0.2585 - acc: 0.4769 - val_loss: 0.2604 - val_acc: 0.4758\n",
      "\n",
      "Epoch 00067: loss did not improve from 0.25824\n",
      "Epoch 68/100\n",
      "577/577 [==============================] - 1s 2ms/step - loss: 0.2584 - acc: 0.4769 - val_loss: 0.2611 - val_acc: 0.4758\n",
      "\n",
      "Epoch 00068: loss did not improve from 0.25824\n",
      "Epoch 69/100\n",
      "577/577 [==============================] - 1s 2ms/step - loss: 0.2582 - acc: 0.4769 - val_loss: 0.2632 - val_acc: 0.4758\n",
      "\n",
      "Epoch 00069: loss improved from 0.25824 to 0.25822, saving model to ./first_cnn_autoencoder.hdf5\n",
      "Epoch 70/100\n",
      "577/577 [==============================] - 1s 2ms/step - loss: 0.2584 - acc: 0.4769 - val_loss: 0.2613 - val_acc: 0.4758\n",
      "\n",
      "Epoch 00070: loss did not improve from 0.25822\n",
      "Epoch 71/100\n",
      "577/577 [==============================] - 1s 2ms/step - loss: 0.2582 - acc: 0.4769 - val_loss: 0.2612 - val_acc: 0.4758\n",
      "\n",
      "Epoch 00071: loss improved from 0.25822 to 0.25817, saving model to ./first_cnn_autoencoder.hdf5\n",
      "Epoch 72/100\n",
      "577/577 [==============================] - 1s 2ms/step - loss: 0.2581 - acc: 0.4769 - val_loss: 0.2603 - val_acc: 0.4758\n",
      "\n",
      "Epoch 00072: loss improved from 0.25817 to 0.25811, saving model to ./first_cnn_autoencoder.hdf5\n",
      "Epoch 73/100\n",
      "577/577 [==============================] - 1s 2ms/step - loss: 0.2583 - acc: 0.4769 - val_loss: 0.2603 - val_acc: 0.4758\n",
      "\n",
      "Epoch 00073: loss did not improve from 0.25811\n",
      "Epoch 74/100\n",
      "577/577 [==============================] - 1s 2ms/step - loss: 0.2582 - acc: 0.4769 - val_loss: 0.2606 - val_acc: 0.4758\n",
      "\n",
      "Epoch 00074: loss did not improve from 0.25811\n",
      "Epoch 75/100\n",
      "577/577 [==============================] - 1s 2ms/step - loss: 0.2580 - acc: 0.4769 - val_loss: 0.2602 - val_acc: 0.4758\n",
      "\n",
      "Epoch 00075: loss improved from 0.25811 to 0.25799, saving model to ./first_cnn_autoencoder.hdf5\n",
      "Epoch 76/100\n",
      "577/577 [==============================] - 1s 2ms/step - loss: 0.2582 - acc: 0.4769 - val_loss: 0.2607 - val_acc: 0.4758\n",
      "\n",
      "Epoch 00076: loss did not improve from 0.25799\n",
      "Epoch 77/100\n",
      "577/577 [==============================] - 1s 2ms/step - loss: 0.2583 - acc: 0.4769 - val_loss: 0.2604 - val_acc: 0.4758\n",
      "\n",
      "Epoch 00077: loss did not improve from 0.25799\n",
      "Epoch 78/100\n",
      "577/577 [==============================] - 1s 2ms/step - loss: 0.2580 - acc: 0.4769 - val_loss: 0.2602 - val_acc: 0.4758\n",
      "\n",
      "Epoch 00078: loss did not improve from 0.25799\n",
      "Epoch 79/100\n",
      "577/577 [==============================] - 1s 2ms/step - loss: 0.2581 - acc: 0.4769 - val_loss: 0.2617 - val_acc: 0.4758\n",
      "\n",
      "Epoch 00079: loss did not improve from 0.25799\n",
      "Epoch 80/100\n",
      "577/577 [==============================] - 1s 2ms/step - loss: 0.2580 - acc: 0.4769 - val_loss: 0.2606 - val_acc: 0.4758\n",
      "\n",
      "Epoch 00080: loss did not improve from 0.25799\n",
      "Epoch 81/100\n",
      "577/577 [==============================] - 1s 2ms/step - loss: 0.2581 - acc: 0.4769 - val_loss: 0.2605 - val_acc: 0.4758\n",
      "\n",
      "Epoch 00081: loss did not improve from 0.25799\n",
      "Epoch 82/100\n",
      "577/577 [==============================] - 1s 2ms/step - loss: 0.2582 - acc: 0.4769 - val_loss: 0.2603 - val_acc: 0.4758\n",
      "\n",
      "Epoch 00082: loss did not improve from 0.25799\n",
      "Epoch 83/100\n",
      "577/577 [==============================] - 1s 2ms/step - loss: 0.2578 - acc: 0.4769 - val_loss: 0.2604 - val_acc: 0.4758\n",
      "\n",
      "Epoch 00083: loss improved from 0.25799 to 0.25783, saving model to ./first_cnn_autoencoder.hdf5\n",
      "Epoch 84/100\n",
      "577/577 [==============================] - 1s 2ms/step - loss: 0.2579 - acc: 0.4769 - val_loss: 0.2602 - val_acc: 0.4758\n",
      "\n",
      "Epoch 00084: loss did not improve from 0.25783\n",
      "Epoch 85/100\n",
      "577/577 [==============================] - 1s 2ms/step - loss: 0.2579 - acc: 0.4769 - val_loss: 0.2608 - val_acc: 0.4758\n",
      "\n",
      "Epoch 00085: loss did not improve from 0.25783\n",
      "Epoch 86/100\n",
      "577/577 [==============================] - 1s 2ms/step - loss: 0.2580 - acc: 0.4769 - val_loss: 0.2611 - val_acc: 0.4758\n",
      "\n",
      "Epoch 00086: loss did not improve from 0.25783\n",
      "Epoch 87/100\n",
      "577/577 [==============================] - 1s 2ms/step - loss: 0.2579 - acc: 0.4769 - val_loss: 0.2603 - val_acc: 0.4758\n",
      "\n",
      "Epoch 00087: loss did not improve from 0.25783\n",
      "Epoch 88/100\n",
      "577/577 [==============================] - 1s 2ms/step - loss: 0.2578 - acc: 0.4769 - val_loss: 0.2608 - val_acc: 0.4758\n",
      "\n",
      "Epoch 00088: loss improved from 0.25783 to 0.25783, saving model to ./first_cnn_autoencoder.hdf5\n",
      "Epoch 89/100\n",
      "577/577 [==============================] - 1s 2ms/step - loss: 0.2579 - acc: 0.4769 - val_loss: 0.2607 - val_acc: 0.4758\n",
      "\n",
      "Epoch 00089: loss did not improve from 0.25783\n",
      "Epoch 90/100\n",
      "577/577 [==============================] - 1s 2ms/step - loss: 0.2580 - acc: 0.4769 - val_loss: 0.2601 - val_acc: 0.4758\n",
      "\n",
      "Epoch 00090: loss did not improve from 0.25783\n",
      "Epoch 91/100\n",
      "577/577 [==============================] - 1s 2ms/step - loss: 0.2576 - acc: 0.4769 - val_loss: 0.2606 - val_acc: 0.4758\n",
      "\n",
      "Epoch 00091: loss improved from 0.25783 to 0.25762, saving model to ./first_cnn_autoencoder.hdf5\n",
      "Epoch 92/100\n",
      "577/577 [==============================] - 1s 2ms/step - loss: 0.2579 - acc: 0.4769 - val_loss: 0.2601 - val_acc: 0.4758\n",
      "\n",
      "Epoch 00092: loss did not improve from 0.25762\n",
      "Epoch 93/100\n",
      "577/577 [==============================] - 1s 2ms/step - loss: 0.2581 - acc: 0.4769 - val_loss: 0.2613 - val_acc: 0.4758\n",
      "\n",
      "Epoch 00093: loss did not improve from 0.25762\n",
      "Epoch 94/100\n",
      "577/577 [==============================] - 1s 2ms/step - loss: 0.2578 - acc: 0.4769 - val_loss: 0.2603 - val_acc: 0.4758\n",
      "\n",
      "Epoch 00094: loss did not improve from 0.25762\n",
      "Epoch 95/100\n",
      "577/577 [==============================] - 1s 2ms/step - loss: 0.2580 - acc: 0.4769 - val_loss: 0.2605 - val_acc: 0.4758\n",
      "\n",
      "Epoch 00095: loss did not improve from 0.25762\n",
      "Epoch 96/100\n",
      "577/577 [==============================] - 1s 2ms/step - loss: 0.2579 - acc: 0.4769 - val_loss: 0.2611 - val_acc: 0.4758\n",
      "\n",
      "Epoch 00096: loss did not improve from 0.25762\n",
      "Epoch 97/100\n",
      "577/577 [==============================] - 1s 2ms/step - loss: 0.2578 - acc: 0.4769 - val_loss: 0.2602 - val_acc: 0.4758\n",
      "\n",
      "Epoch 00097: loss did not improve from 0.25762\n",
      "Epoch 98/100\n",
      "577/577 [==============================] - 1s 2ms/step - loss: 0.2576 - acc: 0.4769 - val_loss: 0.2601 - val_acc: 0.4758\n",
      "\n",
      "Epoch 00098: loss improved from 0.25762 to 0.25761, saving model to ./first_cnn_autoencoder.hdf5\n",
      "Epoch 99/100\n",
      "577/577 [==============================] - 1s 2ms/step - loss: 0.2578 - acc: 0.4769 - val_loss: 0.2601 - val_acc: 0.4758\n",
      "\n",
      "Epoch 00099: loss did not improve from 0.25761\n",
      "Epoch 100/100\n",
      "577/577 [==============================] - 1s 2ms/step - loss: 0.2579 - acc: 0.4769 - val_loss: 0.2601 - val_acc: 0.4758\n",
      "\n",
      "Epoch 00100: loss did not improve from 0.25761\n"
     ]
    }
   ],
   "source": [
    "#Training the model\n",
    "history_poisson = autoenc_poisson.fit(x_train_noisy, x_train_gt,\n",
    "                epochs=100,\n",
    "                batch_size=10,\n",
    "                shuffle=True,\n",
    "                validation_data=(x_valid_noisy, x_valid_gt),\n",
    "                callbacks=[TensorBoard(log_dir='/tmp/autoencoder', histogram_freq=0, write_graph=True),model_checkpoint])"
   ]
  },
  {
   "cell_type": "markdown",
   "metadata": {
    "colab_type": "text",
    "id": "xYhFQmvhciWu"
   },
   "source": [
    "**Test poisson model**"
   ]
  },
  {
   "cell_type": "code",
   "execution_count": 0,
   "metadata": {
    "colab": {
     "base_uri": "https://localhost:8080/",
     "height": 51
    },
    "colab_type": "code",
    "collapsed": false,
    "id": "nQbX7_ntzzUm",
    "outputId": "f60605ff-b092-4beb-e3f3-f53576c94bab"
   },
   "outputs": [
    {
     "name": "stdout",
     "output_type": "stream",
     "text": [
      "(120, 64, 64, 1)\n",
      "(120, 64, 64, 1)\n"
     ]
    }
   ],
   "source": [
    "test_images_poisson_gt, test_images_poisson_noisy = get_testing_images(ground_truth, noisy_images)"
   ]
  },
  {
   "cell_type": "code",
   "execution_count": 0,
   "metadata": {
    "colab": {
     "base_uri": "https://localhost:8080/",
     "height": 51
    },
    "colab_type": "code",
    "collapsed": false,
    "id": "D_Pd4LUbzGfb",
    "outputId": "d8df4467-f7f8-4dd0-c996-871fa2ceaab8"
   },
   "outputs": [
    {
     "name": "stdout",
     "output_type": "stream",
     "text": [
      "120/120 [==============================] - 0s 2ms/step\n"
     ]
    },
    {
     "data": {
      "text/plain": [
       "(120, 64, 64, 1)"
      ]
     },
     "execution_count": 129,
     "metadata": {
      "tags": []
     },
     "output_type": "execute_result"
    }
   ],
   "source": [
    "out_autoenc_poisson = autoenc_poisson.predict(test_images_poisson_noisy, verbose=1)\n",
    "out_autoenc_poisson.shape"
   ]
  },
  {
   "cell_type": "code",
   "execution_count": 0,
   "metadata": {
    "colab": {
     "base_uri": "https://localhost:8080/",
     "height": 71
    },
    "colab_type": "code",
    "collapsed": false,
    "id": "sEpstKtr0lxX",
    "outputId": "269d77da-51d8-44a9-ccee-6a0c9672d538"
   },
   "outputs": [
    {
     "name": "stderr",
     "output_type": "stream",
     "text": [
      "/usr/local/lib/python3.6/dist-packages/skimage/restoration/non_local_means.py:108: UserWarning: denoise_nl_means will default to multichannel=False in v0.15\n",
      "  warn('denoise_nl_means will default to multichannel=False in v0.15')\n"
     ]
    }
   ],
   "source": [
    "nlm_out_poisson = nlm_denoise(test_images_poisson_noisy)\n",
    "nlm_out_poisson = nlm_out.astype('float32')/255.0"
   ]
  },
  {
   "cell_type": "code",
   "execution_count": 0,
   "metadata": {
    "colab": {},
    "colab_type": "code",
    "collapsed": true,
    "id": "IX0jZ5wc1rke"
   },
   "outputs": [],
   "source": [
    "out_median_poisson = median_filter(test_images_poisson_noisy).astype('float32')"
   ]
  },
  {
   "cell_type": "code",
   "execution_count": 0,
   "metadata": {
    "colab": {
     "base_uri": "https://localhost:8080/",
     "height": 85
    },
    "colab_type": "code",
    "collapsed": false,
    "id": "ShnKRIJszGoh",
    "outputId": "51a4cde7-e4e3-412d-aa81-d7644f5ea782"
   },
   "outputs": [
    {
     "name": "stdout",
     "output_type": "stream",
     "text": [
      "psnr of noisy set: 23.360491694944244\n",
      "psnr of median filter: 26.465805304707153\n",
      "psnr of non-local mean filter: 8.806100815329964\n",
      "psnr of CNN_DAE: 31.748813373244737\n"
     ]
    }
   ],
   "source": [
    "print(\"psnr of noisy set:\", get_psnr_result(test_images_poisson_noisy, test_images_poisson_gt))\n",
    "print(\"psnr of median filter:\", get_psnr_result(out_median_poisson, test_images_poisson_gt))\n",
    "print(\"psnr of non-local mean filter:\", get_psnr_result(nlm_out_poisson, test_images_poisson_gt))\n",
    "print(\"psnr of CNN_DAE:\", get_psnr_result(out_autoenc_poisson, test_images_poisson_gt))"
   ]
  },
  {
   "cell_type": "code",
   "execution_count": 0,
   "metadata": {
    "colab": {
     "base_uri": "https://localhost:8080/",
     "height": 85
    },
    "colab_type": "code",
    "collapsed": false,
    "id": "d_Ub5TvqzG2o",
    "outputId": "b553bc4e-456c-4250-aeaf-85697bf3ce4e"
   },
   "outputs": [
    {
     "name": "stdout",
     "output_type": "stream",
     "text": [
      "ssim of noisy set: 0.4581063977966674\n",
      "ssim of median filter: 0.5757942861021627\n",
      "ssim of non-local mean filter: 0.3491158405269698\n",
      "ssim of CNN_DAE: 0.9131138084930425\n"
     ]
    }
   ],
   "source": [
    "print(\"ssim of noisy set:\", get_ssim_result(test_images_poisson_gt, test_images_poisson_noisy))\n",
    "print(\"ssim of median filter:\", get_ssim_result(test_images_poisson_gt, out_median_poisson))\n",
    "print(\"ssim of non-local mean filter:\", get_ssim_result(test_images_poisson_gt, nlm_out_poisson))\n",
    "print(\"ssim of CNN_DAE:\", get_ssim_result(test_images_poisson_gt, out_autoenc_poisson))"
   ]
  },
  {
   "cell_type": "code",
   "execution_count": 0,
   "metadata": {
    "colab": {
     "base_uri": "https://localhost:8080/",
     "height": 865
    },
    "colab_type": "code",
    "collapsed": false,
    "id": "mzQdPt_IWr-v",
    "outputId": "415cbacd-e82c-464a-9b22-5b8820eb49a6"
   },
   "outputs": [
    {
     "data": {
      "image/png": "[encoded data removed]",
      "text/plain": [
       "<matplotlib.figure.Figure at 0x7f85af2cd710>"
      ]
     },
     "metadata": {
      "tags": []
     },
     "output_type": "display_data"
    }
   ],
   "source": [
    "id_poisson = [40, 43, 48]\n",
    "rows = 3\n",
    "columns = 3\n",
    "fig = plt.figure(figsize=(15, 15))\n",
    "for i in range( columns*rows ):\n",
    "    #img = np.random.randint(10, size=(h,w))\n",
    "    # create subplot and append to ax\n",
    "    ax = fig.add_subplot(rows, columns, i+1)\n",
    "    #ax[-1].set_title(\"ax:\"+str(i))  # set title\n",
    "    if i<3:\n",
    "        ax.imshow(np.squeeze(test_images_poisson_noisy[id_poisson[i%3]], axis=2), cmap='Greys_r')\n",
    "    elif 3<=i<6:\n",
    "        ax.imshow(np.squeeze(out_median_poisson[id_poisson[i%3]], axis=2), cmap='Greys_r')\n",
    "    else:\n",
    "        ax.imshow(np.squeeze(out_autoenc_poisson[id_poisson[i%3]], axis=2), cmap='Greys_r')\n",
    "plt.show()\n",
    "fig.savefig('poisson_denoise_model')"
   ]
  },
  {
   "cell_type": "markdown",
   "metadata": {
    "colab_type": "text",
    "id": "TTbUVWLK17sQ"
   },
   "source": [
    "### **Combine with median filter for poisson denoising **"
   ]
  },
  {
   "cell_type": "code",
   "execution_count": 0,
   "metadata": {
    "colab": {
     "base_uri": "https://localhost:8080/",
     "height": 51
    },
    "colab_type": "code",
    "collapsed": false,
    "id": "frnx_Wsu2Cx7",
    "outputId": "a5c29e17-faed-465a-bffa-42a8592fb035"
   },
   "outputs": [
    {
     "name": "stdout",
     "output_type": "stream",
     "text": [
      "(577, 64, 64, 1)\n",
      "(145, 64, 64, 1)\n"
     ]
    }
   ],
   "source": [
    "poisson_train_noisy_med = median_filter(x_train_noisy, kernel=3).astype('float32')\n",
    "poisson_valid_noisy_med = median_filter(x_valid_noisy, kernel=3).astype('float32')\n",
    "print(poisson_train_noisy_med.shape)\n",
    "print(poisson_valid_noisy_med.shape)"
   ]
  },
  {
   "cell_type": "code",
   "execution_count": 0,
   "metadata": {
    "colab": {},
    "colab_type": "code",
    "collapsed": true,
    "id": "6ZeMdHkeUTtI"
   },
   "outputs": [],
   "source": [
    "poisson_train_med_gt = x_train_gt.astype('float32')\n",
    "poisson_valid_med_gt = x_test_gt.astype('float32')"
   ]
  },
  {
   "cell_type": "code",
   "execution_count": 0,
   "metadata": {
    "colab": {
     "base_uri": "https://localhost:8080/",
     "height": 612
    },
    "colab_type": "code",
    "collapsed": false,
    "id": "HQ_Q7VFk2C7k",
    "outputId": "14920d87-f6ce-4291-c2b7-3538e3e766bb"
   },
   "outputs": [
    {
     "name": "stdout",
     "output_type": "stream",
     "text": [
      "_________________________________________________________________\n",
      "Layer (type)                 Output Shape              Param #   \n",
      "=================================================================\n",
      "inputs (InputLayer)          (None, 64, 64, 1)         0         \n",
      "_________________________________________________________________\n",
      "en_conv1 (Conv2D)            (None, 64, 64, 64)        640       \n",
      "_________________________________________________________________\n",
      "leaky_re_lu_17 (LeakyReLU)   (None, 64, 64, 64)        0         \n",
      "_________________________________________________________________\n",
      "en_pool1 (MaxPooling2D)      (None, 32, 32, 64)        0         \n",
      "_________________________________________________________________\n",
      "en_conv2 (Conv2D)            (None, 32, 32, 64)        36928     \n",
      "_________________________________________________________________\n",
      "leaky_re_lu_18 (LeakyReLU)   (None, 32, 32, 64)        0         \n",
      "_________________________________________________________________\n",
      "en_pool2 (MaxPooling2D)      (None, 16, 16, 64)        0         \n",
      "_________________________________________________________________\n",
      "de_conv1 (Conv2D)            (None, 16, 16, 64)        36928     \n",
      "_________________________________________________________________\n",
      "leaky_re_lu_19 (LeakyReLU)   (None, 16, 16, 64)        0         \n",
      "_________________________________________________________________\n",
      "upsampling1 (UpSampling2D)   (None, 32, 32, 64)        0         \n",
      "_________________________________________________________________\n",
      "de_conv2 (Conv2D)            (None, 32, 32, 64)        36928     \n",
      "_________________________________________________________________\n",
      "leaky_re_lu_20 (LeakyReLU)   (None, 32, 32, 64)        0         \n",
      "_________________________________________________________________\n",
      "upsampling2 (UpSampling2D)   (None, 64, 64, 64)        0         \n",
      "_________________________________________________________________\n",
      "de_conv3 (Conv2D)            (None, 64, 64, 1)         577       \n",
      "=================================================================\n",
      "Total params: 112,001\n",
      "Trainable params: 112,001\n",
      "Non-trainable params: 0\n",
      "_________________________________________________________________\n"
     ]
    }
   ],
   "source": [
    "from keras.models import Model\n",
    "from keras.layers import (Input, Conv2D, MaxPooling2D, UpSampling2D, LeakyReLU)\n",
    "from keras import backend as K\n",
    "from keras.callbacks import TensorBoard, ModelCheckpoint\n",
    "\n",
    "input_shape=poisson_train_noisy_med[0].shape\n",
    "autoencoder_median_poisson = DAE_CNN(input_shape)\n",
    "model_checkpoint = ModelCheckpoint('./first_cnn_autoencoder.hdf5',monitor = 'loss', verbose = 1,save_best_only=True)"
   ]
  },
  {
   "cell_type": "code",
   "execution_count": 0,
   "metadata": {
    "colab": {
     "base_uri": "https://localhost:8080/",
     "height": 6851
    },
    "colab_type": "code",
    "collapsed": false,
    "id": "ehNKSLfP22e0",
    "outputId": "af5526e9-dddc-46e2-bc1d-292eb3a6d7dc"
   },
   "outputs": [
    {
     "name": "stdout",
     "output_type": "stream",
     "text": [
      "Train on 577 samples, validate on 145 samples\n",
      "Epoch 1/100\n",
      "577/577 [==============================] - 2s 4ms/step - loss: 0.3482 - acc: 0.4696 - val_loss: 1.0753 - val_acc: 0.3320\n",
      "\n",
      "Epoch 00001: loss improved from inf to 0.34824, saving model to ./first_cnn_autoencoder.hdf5\n",
      "Epoch 2/100\n",
      "577/577 [==============================] - 2s 3ms/step - loss: 0.2844 - acc: 0.4756 - val_loss: 0.9539 - val_acc: 0.3081\n",
      "\n",
      "Epoch 00002: loss improved from 0.34824 to 0.28443, saving model to ./first_cnn_autoencoder.hdf5\n",
      "Epoch 3/100\n",
      "577/577 [==============================] - 2s 3ms/step - loss: 0.2773 - acc: 0.4766 - val_loss: 0.9659 - val_acc: 0.3169\n",
      "\n",
      "Epoch 00003: loss improved from 0.28443 to 0.27727, saving model to ./first_cnn_autoencoder.hdf5\n",
      "Epoch 4/100\n",
      "577/577 [==============================] - 2s 3ms/step - loss: 0.2729 - acc: 0.4768 - val_loss: 0.9513 - val_acc: 0.3061\n",
      "\n",
      "Epoch 00004: loss improved from 0.27727 to 0.27287, saving model to ./first_cnn_autoencoder.hdf5\n",
      "Epoch 5/100\n",
      "577/577 [==============================] - 2s 3ms/step - loss: 0.2701 - acc: 0.4768 - val_loss: 1.0643 - val_acc: 0.3189\n",
      "\n",
      "Epoch 00005: loss improved from 0.27287 to 0.27014, saving model to ./first_cnn_autoencoder.hdf5\n",
      "Epoch 6/100\n",
      "577/577 [==============================] - 2s 3ms/step - loss: 0.2685 - acc: 0.4768 - val_loss: 0.8887 - val_acc: 0.3107\n",
      "\n",
      "Epoch 00006: loss improved from 0.27014 to 0.26854, saving model to ./first_cnn_autoencoder.hdf5\n",
      "Epoch 7/100\n",
      "577/577 [==============================] - 2s 3ms/step - loss: 0.2668 - acc: 0.4768 - val_loss: 0.9765 - val_acc: 0.3127\n",
      "\n",
      "Epoch 00007: loss improved from 0.26854 to 0.26675, saving model to ./first_cnn_autoencoder.hdf5\n",
      "Epoch 8/100\n",
      "577/577 [==============================] - 2s 3ms/step - loss: 0.2660 - acc: 0.4768 - val_loss: 1.0153 - val_acc: 0.3165\n",
      "\n",
      "Epoch 00008: loss improved from 0.26675 to 0.26597, saving model to ./first_cnn_autoencoder.hdf5\n",
      "Epoch 9/100\n",
      "577/577 [==============================] - 2s 3ms/step - loss: 0.2650 - acc: 0.4768 - val_loss: 1.0919 - val_acc: 0.3258\n",
      "\n",
      "Epoch 00009: loss improved from 0.26597 to 0.26498, saving model to ./first_cnn_autoencoder.hdf5\n",
      "Epoch 10/100\n",
      "577/577 [==============================] - 2s 3ms/step - loss: 0.2649 - acc: 0.4768 - val_loss: 0.9991 - val_acc: 0.3157\n",
      "\n",
      "Epoch 00010: loss improved from 0.26498 to 0.26491, saving model to ./first_cnn_autoencoder.hdf5\n",
      "Epoch 11/100\n",
      "577/577 [==============================] - 2s 3ms/step - loss: 0.2638 - acc: 0.4768 - val_loss: 1.1595 - val_acc: 0.3217\n",
      "\n",
      "Epoch 00011: loss improved from 0.26491 to 0.26379, saving model to ./first_cnn_autoencoder.hdf5\n",
      "Epoch 12/100\n",
      "577/577 [==============================] - 2s 3ms/step - loss: 0.2639 - acc: 0.4769 - val_loss: 1.1107 - val_acc: 0.3249\n",
      "\n",
      "Epoch 00012: loss did not improve from 0.26379\n",
      "Epoch 13/100\n",
      "577/577 [==============================] - 2s 3ms/step - loss: 0.2636 - acc: 0.4768 - val_loss: 1.0087 - val_acc: 0.3161\n",
      "\n",
      "Epoch 00013: loss improved from 0.26379 to 0.26365, saving model to ./first_cnn_autoencoder.hdf5\n",
      "Epoch 14/100\n",
      "577/577 [==============================] - 2s 3ms/step - loss: 0.2638 - acc: 0.4768 - val_loss: 1.0474 - val_acc: 0.3176\n",
      "\n",
      "Epoch 00014: loss did not improve from 0.26365\n",
      "Epoch 15/100\n",
      "577/577 [==============================] - 1s 3ms/step - loss: 0.2627 - acc: 0.4769 - val_loss: 1.1577 - val_acc: 0.3221\n",
      "\n",
      "Epoch 00015: loss improved from 0.26365 to 0.26270, saving model to ./first_cnn_autoencoder.hdf5\n",
      "Epoch 16/100\n",
      "577/577 [==============================] - 1s 3ms/step - loss: 0.2627 - acc: 0.4769 - val_loss: 1.1444 - val_acc: 0.3223\n",
      "\n",
      "Epoch 00016: loss improved from 0.26270 to 0.26267, saving model to ./first_cnn_autoencoder.hdf5\n",
      "Epoch 17/100\n",
      "577/577 [==============================] - 1s 3ms/step - loss: 0.2631 - acc: 0.4769 - val_loss: 1.1507 - val_acc: 0.3194\n",
      "\n",
      "Epoch 00017: loss did not improve from 0.26267\n",
      "Epoch 18/100\n",
      "577/577 [==============================] - 1s 3ms/step - loss: 0.2628 - acc: 0.4768 - val_loss: 1.0804 - val_acc: 0.3154\n",
      "\n",
      "Epoch 00018: loss did not improve from 0.26267\n",
      "Epoch 19/100\n",
      "577/577 [==============================] - 1s 3ms/step - loss: 0.2628 - acc: 0.4769 - val_loss: 1.2436 - val_acc: 0.3248\n",
      "\n",
      "Epoch 00019: loss did not improve from 0.26267\n",
      "Epoch 20/100\n",
      "577/577 [==============================] - 1s 2ms/step - loss: 0.2621 - acc: 0.4769 - val_loss: 1.1801 - val_acc: 0.3219\n",
      "\n",
      "Epoch 00020: loss improved from 0.26267 to 0.26215, saving model to ./first_cnn_autoencoder.hdf5\n",
      "Epoch 21/100\n",
      "577/577 [==============================] - 1s 3ms/step - loss: 0.2620 - acc: 0.4769 - val_loss: 1.2688 - val_acc: 0.3209\n",
      "\n",
      "Epoch 00021: loss improved from 0.26215 to 0.26203, saving model to ./first_cnn_autoencoder.hdf5\n",
      "Epoch 22/100\n",
      "577/577 [==============================] - 1s 2ms/step - loss: 0.2617 - acc: 0.4769 - val_loss: 1.0958 - val_acc: 0.3176\n",
      "\n",
      "Epoch 00022: loss improved from 0.26203 to 0.26170, saving model to ./first_cnn_autoencoder.hdf5\n",
      "Epoch 23/100\n",
      "577/577 [==============================] - 1s 3ms/step - loss: 0.2618 - acc: 0.4769 - val_loss: 1.1985 - val_acc: 0.3251\n",
      "\n",
      "Epoch 00023: loss did not improve from 0.26170\n",
      "Epoch 24/100\n",
      "577/577 [==============================] - 1s 3ms/step - loss: 0.2618 - acc: 0.4769 - val_loss: 1.1581 - val_acc: 0.3205\n",
      "\n",
      "Epoch 00024: loss did not improve from 0.26170\n",
      "Epoch 25/100\n",
      "577/577 [==============================] - 1s 2ms/step - loss: 0.2614 - acc: 0.4769 - val_loss: 1.1032 - val_acc: 0.3177\n",
      "\n",
      "Epoch 00025: loss improved from 0.26170 to 0.26143, saving model to ./first_cnn_autoencoder.hdf5\n",
      "Epoch 26/100\n",
      "577/577 [==============================] - 1s 2ms/step - loss: 0.2612 - acc: 0.4769 - val_loss: 1.2025 - val_acc: 0.3211\n",
      "\n",
      "Epoch 00026: loss improved from 0.26143 to 0.26123, saving model to ./first_cnn_autoencoder.hdf5\n",
      "Epoch 27/100\n",
      "577/577 [==============================] - 1s 2ms/step - loss: 0.2613 - acc: 0.4769 - val_loss: 1.0970 - val_acc: 0.3180\n",
      "\n",
      "Epoch 00027: loss did not improve from 0.26123\n",
      "Epoch 28/100\n",
      "577/577 [==============================] - 1s 2ms/step - loss: 0.2611 - acc: 0.4769 - val_loss: 1.2780 - val_acc: 0.3234\n",
      "\n",
      "Epoch 00028: loss improved from 0.26123 to 0.26107, saving model to ./first_cnn_autoencoder.hdf5\n",
      "Epoch 29/100\n",
      "577/577 [==============================] - 1s 2ms/step - loss: 0.2611 - acc: 0.4769 - val_loss: 1.1194 - val_acc: 0.3182\n",
      "\n",
      "Epoch 00029: loss did not improve from 0.26107\n",
      "Epoch 30/100\n",
      "577/577 [==============================] - 1s 2ms/step - loss: 0.2609 - acc: 0.4769 - val_loss: 1.2451 - val_acc: 0.3216\n",
      "\n",
      "Epoch 00030: loss improved from 0.26107 to 0.26089, saving model to ./first_cnn_autoencoder.hdf5\n",
      "Epoch 31/100\n",
      "577/577 [==============================] - 1s 2ms/step - loss: 0.2607 - acc: 0.4769 - val_loss: 1.1512 - val_acc: 0.3188\n",
      "\n",
      "Epoch 00031: loss improved from 0.26089 to 0.26067, saving model to ./first_cnn_autoencoder.hdf5\n",
      "Epoch 32/100\n",
      "577/577 [==============================] - 1s 2ms/step - loss: 0.2609 - acc: 0.4769 - val_loss: 1.1309 - val_acc: 0.3184\n",
      "\n",
      "Epoch 00032: loss did not improve from 0.26067\n",
      "Epoch 33/100\n",
      "577/577 [==============================] - 1s 2ms/step - loss: 0.2602 - acc: 0.4769 - val_loss: 1.2201 - val_acc: 0.3182\n",
      "\n",
      "Epoch 00033: loss improved from 0.26067 to 0.26017, saving model to ./first_cnn_autoencoder.hdf5\n",
      "Epoch 34/100\n",
      "577/577 [==============================] - 1s 2ms/step - loss: 0.2607 - acc: 0.4769 - val_loss: 1.1820 - val_acc: 0.3210\n",
      "\n",
      "Epoch 00034: loss did not improve from 0.26017\n",
      "Epoch 35/100\n",
      "577/577 [==============================] - 1s 2ms/step - loss: 0.2606 - acc: 0.4769 - val_loss: 1.1844 - val_acc: 0.3180\n",
      "\n",
      "Epoch 00035: loss did not improve from 0.26017\n",
      "Epoch 36/100\n",
      "577/577 [==============================] - 1s 2ms/step - loss: 0.2602 - acc: 0.4769 - val_loss: 1.2563 - val_acc: 0.3203\n",
      "\n",
      "Epoch 00036: loss did not improve from 0.26017\n",
      "Epoch 37/100\n",
      "577/577 [==============================] - 1s 2ms/step - loss: 0.2603 - acc: 0.4769 - val_loss: 1.2691 - val_acc: 0.3201\n",
      "\n",
      "Epoch 00037: loss did not improve from 0.26017\n",
      "Epoch 38/100\n",
      "577/577 [==============================] - 1s 2ms/step - loss: 0.2603 - acc: 0.4769 - val_loss: 1.1928 - val_acc: 0.3172\n",
      "\n",
      "Epoch 00038: loss did not improve from 0.26017\n",
      "Epoch 39/100\n",
      "577/577 [==============================] - 1s 2ms/step - loss: 0.2601 - acc: 0.4769 - val_loss: 1.1665 - val_acc: 0.3190\n",
      "\n",
      "Epoch 00039: loss improved from 0.26017 to 0.26012, saving model to ./first_cnn_autoencoder.hdf5\n",
      "Epoch 40/100\n",
      "577/577 [==============================] - 1s 2ms/step - loss: 0.2600 - acc: 0.4769 - val_loss: 1.2371 - val_acc: 0.3206\n",
      "\n",
      "Epoch 00040: loss improved from 0.26012 to 0.26000, saving model to ./first_cnn_autoencoder.hdf5\n",
      "Epoch 41/100\n",
      "577/577 [==============================] - 1s 2ms/step - loss: 0.2600 - acc: 0.4769 - val_loss: 1.1294 - val_acc: 0.3158\n",
      "\n",
      "Epoch 00041: loss improved from 0.26000 to 0.25996, saving model to ./first_cnn_autoencoder.hdf5\n",
      "Epoch 42/100\n",
      "577/577 [==============================] - 1s 2ms/step - loss: 0.2601 - acc: 0.4769 - val_loss: 1.2058 - val_acc: 0.3184\n",
      "\n",
      "Epoch 00042: loss did not improve from 0.25996\n",
      "Epoch 43/100\n",
      "577/577 [==============================] - 1s 2ms/step - loss: 0.2598 - acc: 0.4769 - val_loss: 1.2086 - val_acc: 0.3188\n",
      "\n",
      "Epoch 00043: loss improved from 0.25996 to 0.25976, saving model to ./first_cnn_autoencoder.hdf5\n",
      "Epoch 44/100\n",
      "577/577 [==============================] - 1s 2ms/step - loss: 0.2598 - acc: 0.4769 - val_loss: 1.2086 - val_acc: 0.3182\n",
      "\n",
      "Epoch 00044: loss did not improve from 0.25976\n",
      "Epoch 45/100\n",
      "577/577 [==============================] - 1s 2ms/step - loss: 0.2596 - acc: 0.4769 - val_loss: 1.2249 - val_acc: 0.3203\n",
      "\n",
      "Epoch 00045: loss improved from 0.25976 to 0.25957, saving model to ./first_cnn_autoencoder.hdf5\n",
      "Epoch 46/100\n",
      "577/577 [==============================] - 1s 2ms/step - loss: 0.2599 - acc: 0.4769 - val_loss: 1.2858 - val_acc: 0.3215\n",
      "\n",
      "Epoch 00046: loss did not improve from 0.25957\n",
      "Epoch 47/100\n",
      "577/577 [==============================] - 1s 2ms/step - loss: 0.2596 - acc: 0.4769 - val_loss: 1.1950 - val_acc: 0.3184\n",
      "\n",
      "Epoch 00047: loss did not improve from 0.25957\n",
      "Epoch 48/100\n",
      "577/577 [==============================] - 1s 2ms/step - loss: 0.2599 - acc: 0.4769 - val_loss: 1.1991 - val_acc: 0.3191\n",
      "\n",
      "Epoch 00048: loss did not improve from 0.25957\n",
      "Epoch 49/100\n",
      "577/577 [==============================] - 1s 2ms/step - loss: 0.2596 - acc: 0.4769 - val_loss: 1.2265 - val_acc: 0.3185\n",
      "\n",
      "Epoch 00049: loss did not improve from 0.25957\n",
      "Epoch 50/100\n",
      "577/577 [==============================] - 1s 2ms/step - loss: 0.2591 - acc: 0.4769 - val_loss: 1.1499 - val_acc: 0.3198\n",
      "\n",
      "Epoch 00050: loss improved from 0.25957 to 0.25914, saving model to ./first_cnn_autoencoder.hdf5\n",
      "Epoch 51/100\n",
      "577/577 [==============================] - 1s 2ms/step - loss: 0.2593 - acc: 0.4769 - val_loss: 1.2006 - val_acc: 0.3186\n",
      "\n",
      "Epoch 00051: loss did not improve from 0.25914\n",
      "Epoch 52/100\n",
      "577/577 [==============================] - 1s 2ms/step - loss: 0.2598 - acc: 0.4769 - val_loss: 1.0398 - val_acc: 0.3181\n",
      "\n",
      "Epoch 00052: loss did not improve from 0.25914\n",
      "Epoch 53/100\n",
      "577/577 [==============================] - 1s 2ms/step - loss: 0.2592 - acc: 0.4769 - val_loss: 1.2621 - val_acc: 0.3199\n",
      "\n",
      "Epoch 00053: loss did not improve from 0.25914\n",
      "Epoch 54/100\n",
      "577/577 [==============================] - 1s 2ms/step - loss: 0.2592 - acc: 0.4769 - val_loss: 1.1884 - val_acc: 0.3181\n",
      "\n",
      "Epoch 00054: loss did not improve from 0.25914\n",
      "Epoch 55/100\n",
      "577/577 [==============================] - 1s 2ms/step - loss: 0.2593 - acc: 0.4769 - val_loss: 1.2206 - val_acc: 0.3195\n",
      "\n",
      "Epoch 00055: loss did not improve from 0.25914\n",
      "Epoch 56/100\n",
      "577/577 [==============================] - 1s 2ms/step - loss: 0.2592 - acc: 0.4769 - val_loss: 1.2006 - val_acc: 0.3182\n",
      "\n",
      "Epoch 00056: loss did not improve from 0.25914\n",
      "Epoch 57/100\n",
      "577/577 [==============================] - 1s 2ms/step - loss: 0.2591 - acc: 0.4769 - val_loss: 1.3395 - val_acc: 0.3212\n",
      "\n",
      "Epoch 00057: loss improved from 0.25914 to 0.25906, saving model to ./first_cnn_autoencoder.hdf5\n",
      "Epoch 58/100\n",
      "577/577 [==============================] - 1s 2ms/step - loss: 0.2592 - acc: 0.4769 - val_loss: 1.2350 - val_acc: 0.3194\n",
      "\n",
      "Epoch 00058: loss did not improve from 0.25906\n",
      "Epoch 59/100\n",
      "577/577 [==============================] - 1s 2ms/step - loss: 0.2592 - acc: 0.4769 - val_loss: 1.2437 - val_acc: 0.3193\n",
      "\n",
      "Epoch 00059: loss did not improve from 0.25906\n",
      "Epoch 60/100\n",
      "577/577 [==============================] - 1s 2ms/step - loss: 0.2590 - acc: 0.4769 - val_loss: 1.2973 - val_acc: 0.3206\n",
      "\n",
      "Epoch 00060: loss improved from 0.25906 to 0.25904, saving model to ./first_cnn_autoencoder.hdf5\n",
      "Epoch 61/100\n",
      "577/577 [==============================] - 1s 2ms/step - loss: 0.2591 - acc: 0.4769 - val_loss: 1.3060 - val_acc: 0.3214\n",
      "\n",
      "Epoch 00061: loss did not improve from 0.25904\n",
      "Epoch 62/100\n",
      "577/577 [==============================] - 1s 2ms/step - loss: 0.2590 - acc: 0.4769 - val_loss: 1.2957 - val_acc: 0.3206\n",
      "\n",
      "Epoch 00062: loss improved from 0.25904 to 0.25902, saving model to ./first_cnn_autoencoder.hdf5\n",
      "Epoch 63/100\n",
      "577/577 [==============================] - 1s 2ms/step - loss: 0.2592 - acc: 0.4769 - val_loss: 1.2596 - val_acc: 0.3196\n",
      "\n",
      "Epoch 00063: loss did not improve from 0.25902\n",
      "Epoch 64/100\n",
      "577/577 [==============================] - 1s 2ms/step - loss: 0.2589 - acc: 0.4769 - val_loss: 1.2870 - val_acc: 0.3195\n",
      "\n",
      "Epoch 00064: loss improved from 0.25902 to 0.25885, saving model to ./first_cnn_autoencoder.hdf5\n",
      "Epoch 65/100\n",
      "577/577 [==============================] - 1s 2ms/step - loss: 0.2588 - acc: 0.4769 - val_loss: 1.2652 - val_acc: 0.3196\n",
      "\n",
      "Epoch 00065: loss improved from 0.25885 to 0.25882, saving model to ./first_cnn_autoencoder.hdf5\n",
      "Epoch 66/100\n",
      "577/577 [==============================] - 1s 2ms/step - loss: 0.2588 - acc: 0.4769 - val_loss: 1.2713 - val_acc: 0.3197\n",
      "\n",
      "Epoch 00066: loss did not improve from 0.25882\n",
      "Epoch 67/100\n",
      "577/577 [==============================] - 1s 2ms/step - loss: 0.2588 - acc: 0.4769 - val_loss: 1.3007 - val_acc: 0.3201\n",
      "\n",
      "Epoch 00067: loss improved from 0.25882 to 0.25882, saving model to ./first_cnn_autoencoder.hdf5\n",
      "Epoch 68/100\n",
      "577/577 [==============================] - 1s 2ms/step - loss: 0.2590 - acc: 0.4769 - val_loss: 1.3080 - val_acc: 0.3207\n",
      "\n",
      "Epoch 00068: loss did not improve from 0.25882\n",
      "Epoch 69/100\n",
      "577/577 [==============================] - 1s 2ms/step - loss: 0.2586 - acc: 0.4769 - val_loss: 1.2475 - val_acc: 0.3188\n",
      "\n",
      "Epoch 00069: loss improved from 0.25882 to 0.25865, saving model to ./first_cnn_autoencoder.hdf5\n",
      "Epoch 70/100\n",
      "577/577 [==============================] - 1s 2ms/step - loss: 0.2588 - acc: 0.4769 - val_loss: 1.3580 - val_acc: 0.3204\n",
      "\n",
      "Epoch 00070: loss did not improve from 0.25865\n",
      "Epoch 71/100\n",
      "577/577 [==============================] - 1s 2ms/step - loss: 0.2586 - acc: 0.4769 - val_loss: 1.3149 - val_acc: 0.3209\n",
      "\n",
      "Epoch 00071: loss improved from 0.25865 to 0.25858, saving model to ./first_cnn_autoencoder.hdf5\n",
      "Epoch 72/100\n",
      "577/577 [==============================] - 1s 2ms/step - loss: 0.2589 - acc: 0.4769 - val_loss: 1.3755 - val_acc: 0.3215\n",
      "\n",
      "Epoch 00072: loss did not improve from 0.25858\n",
      "Epoch 73/100\n",
      "577/577 [==============================] - 1s 2ms/step - loss: 0.2588 - acc: 0.4769 - val_loss: 1.2581 - val_acc: 0.3196\n",
      "\n",
      "Epoch 00073: loss did not improve from 0.25858\n",
      "Epoch 74/100\n",
      "577/577 [==============================] - 1s 2ms/step - loss: 0.2587 - acc: 0.4769 - val_loss: 1.3423 - val_acc: 0.3208\n",
      "\n",
      "Epoch 00074: loss did not improve from 0.25858\n",
      "Epoch 75/100\n",
      "577/577 [==============================] - 1s 2ms/step - loss: 0.2586 - acc: 0.4769 - val_loss: 1.2899 - val_acc: 0.3204\n",
      "\n",
      "Epoch 00075: loss did not improve from 0.25858\n",
      "Epoch 76/100\n",
      "577/577 [==============================] - 1s 2ms/step - loss: 0.2588 - acc: 0.4769 - val_loss: 1.3022 - val_acc: 0.3202\n",
      "\n",
      "Epoch 00076: loss did not improve from 0.25858\n",
      "Epoch 77/100\n",
      "577/577 [==============================] - 1s 2ms/step - loss: 0.2584 - acc: 0.4769 - val_loss: 1.2979 - val_acc: 0.3208\n",
      "\n",
      "Epoch 00077: loss improved from 0.25858 to 0.25839, saving model to ./first_cnn_autoencoder.hdf5\n",
      "Epoch 78/100\n",
      "577/577 [==============================] - 1s 2ms/step - loss: 0.2586 - acc: 0.4769 - val_loss: 1.2884 - val_acc: 0.3193\n",
      "\n",
      "Epoch 00078: loss did not improve from 0.25839\n",
      "Epoch 79/100\n",
      "577/577 [==============================] - 1s 2ms/step - loss: 0.2584 - acc: 0.4769 - val_loss: 1.2942 - val_acc: 0.3203\n",
      "\n",
      "Epoch 00079: loss improved from 0.25839 to 0.25837, saving model to ./first_cnn_autoencoder.hdf5\n",
      "Epoch 80/100\n",
      "577/577 [==============================] - 1s 2ms/step - loss: 0.2583 - acc: 0.4769 - val_loss: 1.3124 - val_acc: 0.3204\n",
      "\n",
      "Epoch 00080: loss improved from 0.25837 to 0.25828, saving model to ./first_cnn_autoencoder.hdf5\n",
      "Epoch 81/100\n",
      "577/577 [==============================] - 1s 2ms/step - loss: 0.2584 - acc: 0.4769 - val_loss: 1.2954 - val_acc: 0.3203\n",
      "\n",
      "Epoch 00081: loss did not improve from 0.25828\n",
      "Epoch 82/100\n",
      "577/577 [==============================] - 1s 2ms/step - loss: 0.2585 - acc: 0.4769 - val_loss: 1.2680 - val_acc: 0.3206\n",
      "\n",
      "Epoch 00082: loss did not improve from 0.25828\n",
      "Epoch 83/100\n",
      "577/577 [==============================] - 1s 2ms/step - loss: 0.2585 - acc: 0.4769 - val_loss: 1.3096 - val_acc: 0.3185\n",
      "\n",
      "Epoch 00083: loss did not improve from 0.25828\n",
      "Epoch 84/100\n",
      "577/577 [==============================] - 1s 2ms/step - loss: 0.2584 - acc: 0.4769 - val_loss: 1.3209 - val_acc: 0.3204\n",
      "\n",
      "Epoch 00084: loss did not improve from 0.25828\n",
      "Epoch 85/100\n",
      "577/577 [==============================] - 1s 2ms/step - loss: 0.2584 - acc: 0.4769 - val_loss: 1.2532 - val_acc: 0.3185\n",
      "\n",
      "Epoch 00085: loss did not improve from 0.25828\n",
      "Epoch 86/100\n",
      "577/577 [==============================] - 1s 2ms/step - loss: 0.2583 - acc: 0.4769 - val_loss: 1.2934 - val_acc: 0.3190\n",
      "\n",
      "Epoch 00086: loss did not improve from 0.25828\n",
      "Epoch 87/100\n",
      "577/577 [==============================] - 1s 2ms/step - loss: 0.2583 - acc: 0.4769 - val_loss: 1.1221 - val_acc: 0.3195\n",
      "\n",
      "Epoch 00087: loss did not improve from 0.25828\n",
      "Epoch 88/100\n",
      "577/577 [==============================] - 1s 2ms/step - loss: 0.2585 - acc: 0.4769 - val_loss: 1.2561 - val_acc: 0.3193\n",
      "\n",
      "Epoch 00088: loss did not improve from 0.25828\n",
      "Epoch 89/100\n",
      "577/577 [==============================] - 1s 2ms/step - loss: 0.2583 - acc: 0.4769 - val_loss: 1.3604 - val_acc: 0.3206\n",
      "\n",
      "Epoch 00089: loss did not improve from 0.25828\n",
      "Epoch 90/100\n",
      "577/577 [==============================] - 1s 2ms/step - loss: 0.2583 - acc: 0.4769 - val_loss: 1.3182 - val_acc: 0.3208\n",
      "\n",
      "Epoch 00090: loss did not improve from 0.25828\n",
      "Epoch 91/100\n",
      "577/577 [==============================] - 1s 2ms/step - loss: 0.2583 - acc: 0.4769 - val_loss: 1.3084 - val_acc: 0.3193\n",
      "\n",
      "Epoch 00091: loss did not improve from 0.25828\n",
      "Epoch 92/100\n",
      "577/577 [==============================] - 1s 2ms/step - loss: 0.2582 - acc: 0.4769 - val_loss: 1.2826 - val_acc: 0.3197\n",
      "\n",
      "Epoch 00092: loss improved from 0.25828 to 0.25822, saving model to ./first_cnn_autoencoder.hdf5\n",
      "Epoch 93/100\n",
      "577/577 [==============================] - 1s 2ms/step - loss: 0.2581 - acc: 0.4769 - val_loss: 1.3283 - val_acc: 0.3194\n",
      "\n",
      "Epoch 00093: loss improved from 0.25822 to 0.25814, saving model to ./first_cnn_autoencoder.hdf5\n",
      "Epoch 94/100\n",
      "577/577 [==============================] - 1s 2ms/step - loss: 0.2584 - acc: 0.4769 - val_loss: 1.3152 - val_acc: 0.3206\n",
      "\n",
      "Epoch 00094: loss did not improve from 0.25814\n",
      "Epoch 95/100\n",
      "577/577 [==============================] - 1s 2ms/step - loss: 0.2583 - acc: 0.4769 - val_loss: 1.3588 - val_acc: 0.3199\n",
      "\n",
      "Epoch 00095: loss did not improve from 0.25814\n",
      "Epoch 96/100\n",
      "577/577 [==============================] - 1s 2ms/step - loss: 0.2580 - acc: 0.4769 - val_loss: 1.3834 - val_acc: 0.3202\n",
      "\n",
      "Epoch 00096: loss improved from 0.25814 to 0.25804, saving model to ./first_cnn_autoencoder.hdf5\n",
      "Epoch 97/100\n",
      "577/577 [==============================] - 1s 2ms/step - loss: 0.2580 - acc: 0.4769 - val_loss: 1.3287 - val_acc: 0.3192\n",
      "\n",
      "Epoch 00097: loss improved from 0.25804 to 0.25801, saving model to ./first_cnn_autoencoder.hdf5\n",
      "Epoch 98/100\n",
      "577/577 [==============================] - 1s 2ms/step - loss: 0.2581 - acc: 0.4769 - val_loss: 1.3356 - val_acc: 0.3206\n",
      "\n",
      "Epoch 00098: loss did not improve from 0.25801\n",
      "Epoch 99/100\n",
      "577/577 [==============================] - 1s 2ms/step - loss: 0.2584 - acc: 0.4769 - val_loss: 1.2516 - val_acc: 0.3186\n",
      "\n",
      "Epoch 00099: loss did not improve from 0.25801\n",
      "Epoch 100/100\n",
      "577/577 [==============================] - 1s 2ms/step - loss: 0.2581 - acc: 0.4769 - val_loss: 1.3632 - val_acc: 0.3205\n",
      "\n",
      "Epoch 00100: loss did not improve from 0.25801\n"
     ]
    },
    {
     "data": {
      "text/plain": [
       "<keras.callbacks.History at 0x7f85c1a13cc0>"
      ]
     },
     "execution_count": 137,
     "metadata": {
      "tags": []
     },
     "output_type": "execute_result"
    }
   ],
   "source": [
    "#Training the model\n",
    "autoencoder_median_poisson.fit(poisson_train_noisy_med, poisson_train_med_gt,\n",
    "                epochs=100,\n",
    "                batch_size=10,\n",
    "                shuffle=True,\n",
    "                validation_data=(poisson_valid_noisy_med, poisson_valid_med_gt),\n",
    "                callbacks=[TensorBoard(log_dir='/tmp/autoencoder', histogram_freq=0, write_graph=True),model_checkpoint])"
   ]
  },
  {
   "cell_type": "code",
   "execution_count": 0,
   "metadata": {
    "colab": {
     "base_uri": "https://localhost:8080/",
     "height": 51
    },
    "colab_type": "code",
    "collapsed": false,
    "id": "KpOoYR783b3c",
    "outputId": "aabbc0f3-b54f-4120-f5d4-f60d1857b38e"
   },
   "outputs": [
    {
     "name": "stdout",
     "output_type": "stream",
     "text": [
      "120/120 [==============================] - 0s 484us/step\n"
     ]
    },
    {
     "data": {
      "text/plain": [
       "(120, 64, 64, 1)"
      ]
     },
     "execution_count": 139,
     "metadata": {
      "tags": []
     },
     "output_type": "execute_result"
    }
   ],
   "source": [
    "poisson_autoenc_median_out = autoencoder_median_poisson.predict(test_images_poisson_noisy, verbose=1)\n",
    "poisson_autoenc_median_out.shape"
   ]
  },
  {
   "cell_type": "code",
   "execution_count": 0,
   "metadata": {
    "colab": {
     "base_uri": "https://localhost:8080/",
     "height": 34
    },
    "colab_type": "code",
    "collapsed": false,
    "id": "Q24pJze03opV",
    "outputId": "ba508635-663c-4fa5-c1cc-cb40542dbc54"
   },
   "outputs": [
    {
     "name": "stdout",
     "output_type": "stream",
     "text": [
      "psnr of CNN_DAE: 31.188367538416323\n"
     ]
    }
   ],
   "source": [
    "print(\"psnr of CNN_DAE:\", get_psnr_result(poisson_autoenc_median_out, test_images_poisson_gt))"
   ]
  },
  {
   "cell_type": "code",
   "execution_count": 0,
   "metadata": {
    "colab": {
     "base_uri": "https://localhost:8080/",
     "height": 34
    },
    "colab_type": "code",
    "collapsed": false,
    "id": "G0HkdBgP3sCt",
    "outputId": "285900e4-31ed-40fd-8c09-703177745445"
   },
   "outputs": [
    {
     "name": "stdout",
     "output_type": "stream",
     "text": [
      "ssim of CNN_DAE: 0.890084463047026\n"
     ]
    }
   ],
   "source": [
    "print(\"ssim of CNN_DAE:\", get_ssim_result(test_images_poisson_gt, poisson_autoenc_median_out))"
   ]
  },
  {
   "cell_type": "markdown",
   "metadata": {
    "colab_type": "text",
    "id": "7Jl7rv4_XXPu"
   },
   "source": [
    "### **Loss of 2 models**"
   ]
  },
  {
   "cell_type": "code",
   "execution_count": 0,
   "metadata": {
    "colab": {
     "base_uri": "https://localhost:8080/",
     "height": 349
    },
    "colab_type": "code",
    "collapsed": false,
    "id": "rRndfobSXb4L",
    "outputId": "d8ca5ac1-80bf-47ca-da40-8ef80f004e4e"
   },
   "outputs": [
    {
     "data": {
      "image/png": "[encoded data removed]",
      "text/plain": [
       "<matplotlib.figure.Figure at 0x7f85d18a3e80>"
      ]
     },
     "metadata": {
      "tags": []
     },
     "output_type": "display_data"
    }
   ],
   "source": [
    "fig = plt.figure(figsize=(15,5))\n",
    "ax1 = fig.add_subplot(1,2,1)\n",
    "ax1.plot(history.history['loss'])\n",
    "ax1.plot(history.history['val_loss'])\n",
    "plt.title(\"pertes du modele pour bruits gaussiennes\")\n",
    "plt.ylabel(\"perte\")\n",
    "plt.xlabel(\"nombre d'époques\")\n",
    "ax1.legend(['train', 'valid'], loc='upper right')\n",
    "\n",
    "ax2 = fig.add_subplot(1,2,2)\n",
    "ax2.plot(history_poisson.history['loss'])\n",
    "ax2.plot(history_poisson.history['val_loss'])\n",
    "plt.title(\"pertes du modele pour bruits de poisson\")\n",
    "plt.ylabel(\"perte\")\n",
    "plt.xlabel(\"nombre d'époques\")\n",
    "ax2.legend(['train', 'valid'], loc='upper right')\n",
    "plt.show()\n",
    "\n",
    "fig.savefig('loss')"
   ]
  },
  {
   "cell_type": "code",
   "execution_count": 0,
   "metadata": {
    "colab": {},
    "colab_type": "code",
    "collapsed": true,
    "id": "tpcV1pqIXhgR"
   },
   "outputs": [],
   "source": []
  }
 ],
 "metadata": {
  "accelerator": "GPU",
  "colab": {
   "collapsed_sections": [],
   "name": "Image denoising.ipynb",
   "provenance": [],
   "version": "0.3.2"
  },
  "kernelspec": {
   "display_name": "Python 3",
   "language": "python",
   "name": "python3"
  },
  "language_info": {
   "codemirror_mode": {
    "name": "ipython",
    "version": 3
   },
   "file_extension": ".py",
   "mimetype": "text/x-python",
   "name": "python",
   "nbconvert_exporter": "python",
   "pygments_lexer": "ipython3",
   "version": "3.7.0"
  }
 },
 "nbformat": 4,
 "nbformat_minor": 0
}
